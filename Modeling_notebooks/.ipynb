{
 "cells": [
  {
   "cell_type": "code",
   "execution_count": 1,
   "metadata": {},
   "outputs": [],
   "source": [
    "import pandas as pd\n",
    "from sqlalchemy import create_engine\n",
    "import numpy as np\n",
    "from pivottablejs import pivot_ui\n",
    "from jupyter_core.paths import jupyter_data_dir"
   ]
  },
  {
   "cell_type": "code",
   "execution_count": 2,
   "metadata": {},
   "outputs": [],
   "source": [
    "import matplotlib.pyplot as plt\n",
    "from sklearn.linear_model import LinearRegression"
   ]
  },
  {
   "cell_type": "markdown",
   "metadata": {},
   "source": [
    "# 1) Read in and Clean Data"
   ]
  },
  {
   "cell_type": "code",
   "execution_count": 3,
   "metadata": {},
   "outputs": [],
   "source": [
    "df = pd.read_csv('project_3_final_table.csv')"
   ]
  },
  {
   "cell_type": "code",
   "execution_count": 4,
   "metadata": {},
   "outputs": [
    {
     "data": {
      "text/plain": [
       "Index(['Unnamed: 0', 'caseid_new', 'children_in_hh', 'age_difference',\n",
       "       'race_gap', 'religious_gap', 'edu_gap', 'met_online', 'met_at_work',\n",
       "       'met_at_school', 'met_at_church', 'met_travel', 'met_social',\n",
       "       'met_party', 'met_f_and_f', 'met_as_neighbors', 'met_public_space',\n",
       "       'met_offline_dating', 'met_other', 'how_met_count', 'relationship_len',\n",
       "       'partner_deceased', 'married_w1_married', 'married_w1_not married',\n",
       "       'age_gap_bin_0 to 3', 'age_gap_bin_11 to 20', 'age_gap_bin_4 to 5',\n",
       "       'age_gap_bin_6 to 10', 'age_gap_bin_>=20',\n",
       "       'same_sex_couple_different sex couple',\n",
       "       'same_sex_couple_same-sex couple', 'edu_gap_bin_0 to 2',\n",
       "       'edu_gap_bin_3 to 4', 'edu_gap_bin_5 to 6', 'edu_gap_bin_>6',\n",
       "       'parental_approval_approve', 'parental_approval_dont_approve',\n",
       "       'relationship_quality_w1_excellent', 'relationship_quality_w1_fair',\n",
       "       'relationship_quality_w1_good', 'relationship_quality_w1_poor',\n",
       "       'relationship_quality_w1_very poor', 'age_when_met', 'family_size',\n",
       "       'region', 'metro', 'region_midwest', 'region_northeast', 'region_south',\n",
       "       'region_west', 'partner_political', 'resondent_political',\n",
       "       'income_gap_raw', 'same_political', 'income_gap',\n",
       "       'respondent_earn_more', 'relationship_quality_w1',\n",
       "       'relationship_len_cat'],\n",
       "      dtype='object')"
      ]
     },
     "execution_count": 4,
     "metadata": {},
     "output_type": "execute_result"
    }
   ],
   "source": [
    "df.columns"
   ]
  },
  {
   "cell_type": "code",
   "execution_count": 5,
   "metadata": {},
   "outputs": [
    {
     "data": {
      "text/html": [
       "<div>\n",
       "<style scoped>\n",
       "    .dataframe tbody tr th:only-of-type {\n",
       "        vertical-align: middle;\n",
       "    }\n",
       "\n",
       "    .dataframe tbody tr th {\n",
       "        vertical-align: top;\n",
       "    }\n",
       "\n",
       "    .dataframe thead th {\n",
       "        text-align: right;\n",
       "    }\n",
       "</style>\n",
       "<table border=\"1\" class=\"dataframe\">\n",
       "  <thead>\n",
       "    <tr style=\"text-align: right;\">\n",
       "      <th></th>\n",
       "      <th>Unnamed: 0</th>\n",
       "      <th>caseid_new</th>\n",
       "      <th>children_in_hh</th>\n",
       "      <th>age_difference</th>\n",
       "      <th>race_gap</th>\n",
       "      <th>religious_gap</th>\n",
       "      <th>edu_gap</th>\n",
       "      <th>met_online</th>\n",
       "      <th>met_at_work</th>\n",
       "      <th>met_at_school</th>\n",
       "      <th>...</th>\n",
       "      <th>region_south</th>\n",
       "      <th>region_west</th>\n",
       "      <th>partner_political</th>\n",
       "      <th>resondent_political</th>\n",
       "      <th>income_gap_raw</th>\n",
       "      <th>same_political</th>\n",
       "      <th>income_gap</th>\n",
       "      <th>respondent_earn_more</th>\n",
       "      <th>relationship_quality_w1</th>\n",
       "      <th>relationship_len_cat</th>\n",
       "    </tr>\n",
       "  </thead>\n",
       "  <tbody>\n",
       "    <tr>\n",
       "      <th>0</th>\n",
       "      <td>0</td>\n",
       "      <td>22526</td>\n",
       "      <td>0</td>\n",
       "      <td>4.0</td>\n",
       "      <td>1</td>\n",
       "      <td>1</td>\n",
       "      <td>2.0</td>\n",
       "      <td>1</td>\n",
       "      <td>0</td>\n",
       "      <td>0</td>\n",
       "      <td>...</td>\n",
       "      <td>0</td>\n",
       "      <td>0</td>\n",
       "      <td>democrat</td>\n",
       "      <td>democrat</td>\n",
       "      <td>partner earned more</td>\n",
       "      <td>1</td>\n",
       "      <td>1.0</td>\n",
       "      <td>0.0</td>\n",
       "      <td>good</td>\n",
       "      <td>second_quartile</td>\n",
       "    </tr>\n",
       "    <tr>\n",
       "      <th>1</th>\n",
       "      <td>1</td>\n",
       "      <td>23286</td>\n",
       "      <td>0</td>\n",
       "      <td>2.0</td>\n",
       "      <td>0</td>\n",
       "      <td>1</td>\n",
       "      <td>1.0</td>\n",
       "      <td>0</td>\n",
       "      <td>0</td>\n",
       "      <td>1</td>\n",
       "      <td>...</td>\n",
       "      <td>0</td>\n",
       "      <td>1</td>\n",
       "      <td>democrat</td>\n",
       "      <td>democrat</td>\n",
       "      <td>i earned more</td>\n",
       "      <td>1</td>\n",
       "      <td>1.0</td>\n",
       "      <td>1.0</td>\n",
       "      <td>good</td>\n",
       "      <td>second_quartile</td>\n",
       "    </tr>\n",
       "    <tr>\n",
       "      <th>2</th>\n",
       "      <td>2</td>\n",
       "      <td>26315</td>\n",
       "      <td>0</td>\n",
       "      <td>9.0</td>\n",
       "      <td>0</td>\n",
       "      <td>1</td>\n",
       "      <td>2.0</td>\n",
       "      <td>1</td>\n",
       "      <td>0</td>\n",
       "      <td>0</td>\n",
       "      <td>...</td>\n",
       "      <td>1</td>\n",
       "      <td>0</td>\n",
       "      <td>democrat</td>\n",
       "      <td>democrat</td>\n",
       "      <td>i earned more</td>\n",
       "      <td>1</td>\n",
       "      <td>1.0</td>\n",
       "      <td>1.0</td>\n",
       "      <td>good</td>\n",
       "      <td>bottom_quartile</td>\n",
       "    </tr>\n",
       "    <tr>\n",
       "      <th>3</th>\n",
       "      <td>3</td>\n",
       "      <td>28536</td>\n",
       "      <td>0</td>\n",
       "      <td>2.0</td>\n",
       "      <td>0</td>\n",
       "      <td>1</td>\n",
       "      <td>1.0</td>\n",
       "      <td>0</td>\n",
       "      <td>0</td>\n",
       "      <td>0</td>\n",
       "      <td>...</td>\n",
       "      <td>0</td>\n",
       "      <td>0</td>\n",
       "      <td>democrat</td>\n",
       "      <td>democrat</td>\n",
       "      <td>i earned more</td>\n",
       "      <td>1</td>\n",
       "      <td>1.0</td>\n",
       "      <td>1.0</td>\n",
       "      <td>good</td>\n",
       "      <td>second_quartile</td>\n",
       "    </tr>\n",
       "    <tr>\n",
       "      <th>4</th>\n",
       "      <td>4</td>\n",
       "      <td>29584</td>\n",
       "      <td>0</td>\n",
       "      <td>7.0</td>\n",
       "      <td>0</td>\n",
       "      <td>0</td>\n",
       "      <td>0.0</td>\n",
       "      <td>0</td>\n",
       "      <td>1</td>\n",
       "      <td>0</td>\n",
       "      <td>...</td>\n",
       "      <td>1</td>\n",
       "      <td>0</td>\n",
       "      <td>democrat</td>\n",
       "      <td>democrat</td>\n",
       "      <td>partner earned more</td>\n",
       "      <td>1</td>\n",
       "      <td>1.0</td>\n",
       "      <td>0.0</td>\n",
       "      <td>good</td>\n",
       "      <td>top_quartile</td>\n",
       "    </tr>\n",
       "  </tbody>\n",
       "</table>\n",
       "<p>5 rows × 58 columns</p>\n",
       "</div>"
      ],
      "text/plain": [
       "   Unnamed: 0  caseid_new  children_in_hh  age_difference  race_gap  \\\n",
       "0           0       22526               0             4.0         1   \n",
       "1           1       23286               0             2.0         0   \n",
       "2           2       26315               0             9.0         0   \n",
       "3           3       28536               0             2.0         0   \n",
       "4           4       29584               0             7.0         0   \n",
       "\n",
       "   religious_gap  edu_gap  met_online  met_at_work  met_at_school  ...  \\\n",
       "0              1      2.0           1            0              0  ...   \n",
       "1              1      1.0           0            0              1  ...   \n",
       "2              1      2.0           1            0              0  ...   \n",
       "3              1      1.0           0            0              0  ...   \n",
       "4              0      0.0           0            1              0  ...   \n",
       "\n",
       "   region_south  region_west  partner_political  resondent_political  \\\n",
       "0             0            0           democrat             democrat   \n",
       "1             0            1           democrat             democrat   \n",
       "2             1            0           democrat             democrat   \n",
       "3             0            0           democrat             democrat   \n",
       "4             1            0           democrat             democrat   \n",
       "\n",
       "        income_gap_raw  same_political  income_gap  respondent_earn_more  \\\n",
       "0  partner earned more               1         1.0                   0.0   \n",
       "1        i earned more               1         1.0                   1.0   \n",
       "2        i earned more               1         1.0                   1.0   \n",
       "3        i earned more               1         1.0                   1.0   \n",
       "4  partner earned more               1         1.0                   0.0   \n",
       "\n",
       "   relationship_quality_w1  relationship_len_cat  \n",
       "0                     good       second_quartile  \n",
       "1                     good       second_quartile  \n",
       "2                     good       bottom_quartile  \n",
       "3                     good       second_quartile  \n",
       "4                     good          top_quartile  \n",
       "\n",
       "[5 rows x 58 columns]"
      ]
     },
     "execution_count": 5,
     "metadata": {},
     "output_type": "execute_result"
    }
   ],
   "source": [
    "df.head()"
   ]
  },
  {
   "cell_type": "code",
   "execution_count": 6,
   "metadata": {},
   "outputs": [],
   "source": [
    "# check which columns have NaN\n",
    "# df.isnull().sum()\n",
    "\n",
    "# age_difference                           19\n",
    "# relationship_len                         27\n",
    "# age_when_met                             15\n",
    "# family_size                              13\n",
    "# income_gap                               31\n",
    "# respondent_earn_more                    405\n",
    "# relationship_quality_w1                  13"
   ]
  },
  {
   "cell_type": "code",
   "execution_count": 7,
   "metadata": {},
   "outputs": [
    {
     "data": {
      "text/plain": [
       "excellent    1771\n",
       "good          911\n",
       "fair          252\n",
       "poor           42\n",
       "very poor      20\n",
       "Name: relationship_quality_w1, dtype: int64"
      ]
     },
     "execution_count": 7,
     "metadata": {},
     "output_type": "execute_result"
    }
   ],
   "source": [
    "df['relationship_quality_w1'].value_counts()"
   ]
  },
  {
   "cell_type": "code",
   "execution_count": 8,
   "metadata": {},
   "outputs": [
    {
     "data": {
      "text/plain": [
       "1.0    1332\n",
       "0.0    1272\n",
       "Name: respondent_earn_more, dtype: int64"
      ]
     },
     "execution_count": 8,
     "metadata": {},
     "output_type": "execute_result"
    }
   ],
   "source": [
    "df['respondent_earn_more'].value_counts()"
   ]
  },
  {
   "cell_type": "code",
   "execution_count": 9,
   "metadata": {},
   "outputs": [],
   "source": [
    "# Fill NaN with either mode or mean\n",
    "\n",
    "df['age_difference'].fillna(round(df['age_difference'].mean()), inplace=True)\n",
    "df['relationship_len'].fillna(round(df['relationship_len'].mean()), inplace=True)\n",
    "df['age_when_met'].fillna(round(df['age_when_met'].mean()), inplace=True)\n",
    "df['family_size'].fillna(round(df['family_size'].mean()), inplace=True)\n",
    "df['income_gap'].fillna(round(df['income_gap'].mean()), inplace=True)\n",
    "df['relationship_quality_w1'].fillna(0, inplace=True)\n",
    "df['respondent_earn_more'].fillna(0, inplace=True)"
   ]
  },
  {
   "cell_type": "code",
   "execution_count": 10,
   "metadata": {},
   "outputs": [],
   "source": [
    "# df.isnull().sum()"
   ]
  },
  {
   "cell_type": "markdown",
   "metadata": {},
   "source": [
    "# 2) Run Model"
   ]
  },
  {
   "cell_type": "code",
   "execution_count": 11,
   "metadata": {},
   "outputs": [
    {
     "data": {
      "text/plain": [
       "Index(['Unnamed: 0', 'caseid_new', 'children_in_hh', 'age_difference',\n",
       "       'race_gap', 'religious_gap', 'edu_gap', 'met_online', 'met_at_work',\n",
       "       'met_at_school', 'met_at_church', 'met_travel', 'met_social',\n",
       "       'met_party', 'met_f_and_f', 'met_as_neighbors', 'met_public_space',\n",
       "       'met_offline_dating', 'met_other', 'how_met_count', 'relationship_len',\n",
       "       'partner_deceased', 'married_w1_married', 'married_w1_not married',\n",
       "       'age_gap_bin_0 to 3', 'age_gap_bin_11 to 20', 'age_gap_bin_4 to 5',\n",
       "       'age_gap_bin_6 to 10', 'age_gap_bin_>=20',\n",
       "       'same_sex_couple_different sex couple',\n",
       "       'same_sex_couple_same-sex couple', 'edu_gap_bin_0 to 2',\n",
       "       'edu_gap_bin_3 to 4', 'edu_gap_bin_5 to 6', 'edu_gap_bin_>6',\n",
       "       'parental_approval_approve', 'parental_approval_dont_approve',\n",
       "       'relationship_quality_w1_excellent', 'relationship_quality_w1_fair',\n",
       "       'relationship_quality_w1_good', 'relationship_quality_w1_poor',\n",
       "       'relationship_quality_w1_very poor', 'age_when_met', 'family_size',\n",
       "       'region', 'metro', 'region_midwest', 'region_northeast', 'region_south',\n",
       "       'region_west', 'partner_political', 'resondent_political',\n",
       "       'income_gap_raw', 'same_political', 'income_gap',\n",
       "       'respondent_earn_more', 'relationship_quality_w1',\n",
       "       'relationship_len_cat'],\n",
       "      dtype='object')"
      ]
     },
     "execution_count": 11,
     "metadata": {},
     "output_type": "execute_result"
    }
   ],
   "source": [
    "df.columns"
   ]
  },
  {
   "cell_type": "markdown",
   "metadata": {},
   "source": [
    "## Test out different X variables"
   ]
  },
  {
   "cell_type": "code",
   "execution_count": 12,
   "metadata": {},
   "outputs": [
    {
     "name": "stdout",
     "output_type": "stream",
     "text": [
      "(3009, 41)\n"
     ]
    }
   ],
   "source": [
    "### All columns ####\n",
    "\n",
    "X = df[['children_in_hh', 'race_gap', 'religious_gap',\n",
    "        'met_online', 'met_at_work','met_at_school', 'met_at_church', 'met_travel', 'met_social',\n",
    "        'met_party', 'met_f_and_f', 'met_as_neighbors', 'met_public_space',\n",
    "        'met_offline_dating', 'met_other',\n",
    "        'married_w1_married', \n",
    "        'age_gap_bin_0 to 3', 'age_gap_bin_11 to 20', 'age_gap_bin_4 to 5','age_gap_bin_6 to 10', 'age_gap_bin_>=20',\n",
    "        'same_sex_couple_different sex couple',\n",
    "        'edu_gap_bin_0 to 2','edu_gap_bin_3 to 4','edu_gap_bin_5 to 6','edu_gap_bin_>6',\n",
    "        'parental_approval_approve',\n",
    "        'relationship_quality_w1_excellent', 'relationship_quality_w1_fair',\n",
    "        'relationship_quality_w1_good', 'relationship_quality_w1_poor',\n",
    "        'relationship_quality_w1_very poor', 'age_when_met', 'family_size','metro',\n",
    "        'region_midwest', 'region_northeast', 'region_south','region_west',\n",
    "        'same_political', 'income_gap']]\n",
    "\n",
    "print(X.shape)"
   ]
  },
  {
   "cell_type": "code",
   "execution_count": 13,
   "metadata": {},
   "outputs": [],
   "source": [
    "# X = df[['children_in_hh', 'race_gap', 'religious_gap','married_w1_married', \n",
    "#         'age_gap_bin_0 to 3', 'age_gap_bin_11 to 20', 'age_gap_bin_4 to 5','age_gap_bin_6 to 10', 'age_gap_bin_>=20',\n",
    "#         'same_sex_couple_different sex couple',\n",
    "#         'edu_gap_bin_0 to 2','edu_gap_bin_3 to 4','edu_gap_bin_5 to 6','edu_gap_bin_>6',\n",
    "#         'parental_approval_approve','age_when_met', 'family_size','metro',\n",
    "#         'region_midwest', 'region_northeast', 'region_south','region_west',\n",
    "#         'same_political', 'income_gap']]\n",
    "\n",
    "# print(X.shape)"
   ]
  },
  {
   "cell_type": "code",
   "execution_count": 14,
   "metadata": {},
   "outputs": [],
   "source": [
    "# X = df[['children_in_hh', 'race_gap', 'religious_gap',\n",
    "#         'met_online', 'age_gap_bin_0 to 3','same_sex_couple_different sex couple',\n",
    "#         'edu_gap_bin_0 to 2','parental_approval_approve',\n",
    "#         'relationship_quality_w1_excellent','age_when_met', 'family_size','metro',\n",
    "#         'region_midwest', 'region_northeast', 'region_south','region_west',\n",
    "#         'same_political', 'income_gap']]\n",
    "\n",
    "# print(X.shape)"
   ]
  },
  {
   "cell_type": "code",
   "execution_count": 15,
   "metadata": {},
   "outputs": [],
   "source": [
    "## Keep only the variables with positive coefficient\n",
    "\n",
    "# 5 met at work\n",
    "# 12 met as neighbors\n",
    "# 15 met other\n",
    "# 16 married\n",
    "# 28 excellent\n",
    "# 37 region_northeast\n",
    "# 38 region_south\n",
    "\n",
    "# X = df[['met_at_work','married_w1_married', 'relationship_quality_w1_excellent', 'region_northeast']]\n",
    "\n",
    "# print(X.shape)"
   ]
  },
  {
   "cell_type": "code",
   "execution_count": 16,
   "metadata": {},
   "outputs": [
    {
     "name": "stdout",
     "output_type": "stream",
     "text": [
      "(3009, 1)\n"
     ]
    }
   ],
   "source": [
    "y = df[\"relationship_len\"].values.reshape(-1, 1)\n",
    "\n",
    "print(y.shape)"
   ]
  },
  {
   "cell_type": "code",
   "execution_count": 17,
   "metadata": {},
   "outputs": [],
   "source": [
    "from sklearn.model_selection import train_test_split\n",
    "X_train, X_test, y_train, y_test = train_test_split(X, y, random_state=42)"
   ]
  },
  {
   "cell_type": "markdown",
   "metadata": {},
   "source": [
    "## Try scaling it"
   ]
  },
  {
   "cell_type": "code",
   "execution_count": 18,
   "metadata": {},
   "outputs": [],
   "source": [
    "from sklearn.preprocessing import StandardScaler\n",
    "X_scaler = StandardScaler().fit(X_train)\n",
    "y_scaler = StandardScaler().fit(y_train)"
   ]
  },
  {
   "cell_type": "code",
   "execution_count": 19,
   "metadata": {},
   "outputs": [],
   "source": [
    "X_train_scaled = X_scaler.transform(X_train)\n",
    "X_test_scaled = X_scaler.transform(X_test)\n",
    "X_scaled = X_scaler.transform(X)\n",
    "\n",
    "y_train_scaled = y_scaler.transform(y_train)\n",
    "y_test_scaled = y_scaler.transform(y_test)\n",
    "y_scaled = y_scaler.transform(y)"
   ]
  },
  {
   "cell_type": "markdown",
   "metadata": {},
   "source": [
    "## Fit model and run the R2 and MSE scores"
   ]
  },
  {
   "cell_type": "code",
   "execution_count": 20,
   "metadata": {},
   "outputs": [],
   "source": [
    "model = LinearRegression()"
   ]
  },
  {
   "cell_type": "code",
   "execution_count": 21,
   "metadata": {},
   "outputs": [],
   "source": [
    "#### Using unscaled data\n",
    "# model.fit(X_train, y_train)"
   ]
  },
  {
   "cell_type": "code",
   "execution_count": 22,
   "metadata": {},
   "outputs": [
    {
     "data": {
      "text/plain": [
       "LinearRegression(copy_X=True, fit_intercept=True, n_jobs=None, normalize=False)"
      ]
     },
     "execution_count": 22,
     "metadata": {},
     "output_type": "execute_result"
    }
   ],
   "source": [
    "#### Using scaled data\n",
    "\n",
    "model.fit(X_train_scaled, y_train_scaled)"
   ]
  },
  {
   "cell_type": "code",
   "execution_count": 23,
   "metadata": {},
   "outputs": [],
   "source": [
    "##################################################################################\n",
    "############## Calculate Model Performance Metrics #####\n",
    "##################################################################################"
   ]
  },
  {
   "cell_type": "code",
   "execution_count": 24,
   "metadata": {},
   "outputs": [],
   "source": [
    "predictions_test = model.predict(X_test_scaled)"
   ]
  },
  {
   "cell_type": "code",
   "execution_count": 25,
   "metadata": {},
   "outputs": [
    {
     "name": "stdout",
     "output_type": "stream",
     "text": [
      "MSE: 0.5296014698104934, R2: 0.48350624086423344\n"
     ]
    }
   ],
   "source": [
    "from sklearn.metrics import mean_squared_error\n",
    " \n",
    "MSE = mean_squared_error(y_test_scaled, predictions_test)\n",
    "r2 = model.score(X_test_scaled, y_test_scaled)\n",
    " \n",
    "print(f\"MSE: {MSE}, R2: {r2}\")"
   ]
  },
  {
   "cell_type": "code",
   "execution_count": 26,
   "metadata": {},
   "outputs": [
    {
     "name": "stdout",
     "output_type": "stream",
     "text": [
      "training score:  0.49579426318102005\n",
      "test score:  0.48350624086423344\n"
     ]
    }
   ],
   "source": [
    "###### Another Way to calculate R2 #########\n",
    "\n",
    "training_score = model.score(X_train_scaled, y_train_scaled)\n",
    "testing_score = model.score(X_test_scaled, y_test_scaled)\n",
    "\n",
    "print(\"training score: \", training_score)\n",
    "print(\"test score: \", testing_score)"
   ]
  },
  {
   "cell_type": "code",
   "execution_count": 27,
   "metadata": {},
   "outputs": [
    {
     "data": {
      "image/png": "[encoded data removed]",
      "text/plain": [
       "<Figure size 432x288 with 1 Axes>"
      ]
     },
     "metadata": {
      "needs_background": "light"
     },
     "output_type": "display_data"
    }
   ],
   "source": [
    "################### Check Residual Plots ####################\n",
    "\n",
    "\n",
    "# Make predictions (scaled data)\n",
    "\n",
    "# predictions_training = model.predict(X_train_scaled)\n",
    "\n",
    "# predictions_test = model.predict(X_test_scaled)\n",
    "\n",
    "predictions_all_X = model.predict(X_scaled)\n",
    "\n",
    "\n",
    "\n",
    "################### Plot Residuals (scaled data)\n",
    "\n",
    "# # 1) Training Data Residual Plot #####\n",
    "\n",
    "# plt.scatter(predictions_training, predictions_training - y_train_scaled)\n",
    "# plt.hlines(y=0, xmin=predictions_training.min(), xmax=predictions_training.max())\n",
    "\n",
    "\n",
    "# # 2) Test Data Residual Plot #####\n",
    "\n",
    "# plt.scatter(predictions_test, predictions_test - y_test_scaled)\n",
    "# plt.hlines(y=0, xmin=predictions_test.min(), xmax=predictions_test.max())\n",
    "\n",
    "\n",
    "# 3) All Data ####\n",
    "\n",
    "plt.scatter(predictions_all_X, predictions_all_X - y_scaled)\n",
    "plt.hlines(y=0, xmin=predictions_all_X.min(), xmax=predictions_all_X.max())\n",
    "\n",
    "\n",
    "plt.show()"
   ]
  },
  {
   "cell_type": "markdown",
   "metadata": {},
   "source": [
    "## Print out coefficients"
   ]
  },
  {
   "cell_type": "code",
   "execution_count": 28,
   "metadata": {},
   "outputs": [
    {
     "name": "stdout",
     "output_type": "stream",
     "text": [
      "Weight coefficients:  [[-1.69793546e-01 -4.89414266e-02 -7.13028554e-02 -1.48229718e-01\n",
      "   1.18042826e-03 -7.14682026e-02 -1.04095339e-02 -1.19568912e-02\n",
      "  -3.97186287e-02 -6.26974821e-03 -1.70783684e-02  1.44474317e-02\n",
      "  -1.83140233e-04 -1.72758015e-02  8.15151218e-02  3.98187078e-01\n",
      "  -2.13449128e-01 -1.30114543e-01 -1.54291853e-01 -1.75564837e-01\n",
      "  -3.70055091e-02 -7.35364292e-02 -2.35427469e-01 -2.19736539e-01\n",
      "  -8.45237101e-02 -2.01347486e-02 -3.45716682e-01  5.50467960e-02\n",
      "  -5.45800500e-02 -1.34512814e-02 -3.21378083e-02 -3.13405325e-02\n",
      "  -3.16487432e-01 -1.25044685e-02 -3.15442126e-02 -4.26195485e-03\n",
      "   5.32349612e-03  6.22242412e-04 -1.47865627e-03 -8.10964480e-03\n",
      "   1.24366170e-02]]\n"
     ]
    }
   ],
   "source": [
    "print('Weight coefficients: ', model.coef_)"
   ]
  },
  {
   "cell_type": "code",
   "execution_count": 29,
   "metadata": {},
   "outputs": [
    {
     "name": "stdout",
     "output_type": "stream",
     "text": [
      "y-axis intercept:  [1.68313e-16]\n"
     ]
    }
   ],
   "source": [
    "print('y-axis intercept: ', model.intercept_) "
   ]
  },
  {
   "cell_type": "markdown",
   "metadata": {},
   "source": [
    "### Making the coefficients more readable"
   ]
  },
  {
   "cell_type": "code",
   "execution_count": 33,
   "metadata": {},
   "outputs": [
    {
     "data": {
      "text/plain": [
       "Index(['children_in_hh', 'race_gap', 'religious_gap', 'met_online',\n",
       "       'met_at_work', 'met_at_school', 'met_at_church', 'met_travel',\n",
       "       'met_social', 'met_party', 'met_f_and_f', 'met_as_neighbors',\n",
       "       'met_public_space', 'met_offline_dating', 'met_other',\n",
       "       'married_w1_married', 'age_gap_bin_0 to 3', 'age_gap_bin_11 to 20',\n",
       "       'age_gap_bin_4 to 5', 'age_gap_bin_6 to 10', 'age_gap_bin_>=20',\n",
       "       'same_sex_couple_different sex couple', 'edu_gap_bin_0 to 2',\n",
       "       'edu_gap_bin_3 to 4', 'edu_gap_bin_5 to 6', 'edu_gap_bin_>6',\n",
       "       'parental_approval_approve', 'relationship_quality_w1_excellent',\n",
       "       'relationship_quality_w1_fair', 'relationship_quality_w1_good',\n",
       "       'relationship_quality_w1_poor', 'relationship_quality_w1_very poor',\n",
       "       'age_when_met', 'family_size', 'metro', 'region_midwest',\n",
       "       'region_northeast', 'region_south', 'region_west', 'same_political',\n",
       "       'income_gap'],\n",
       "      dtype='object')"
      ]
     },
     "execution_count": 33,
     "metadata": {},
     "output_type": "execute_result"
    }
   ],
   "source": [
    "columns = X.columns\n",
    "columns"
   ]
  },
  {
   "cell_type": "code",
   "execution_count": 35,
   "metadata": {},
   "outputs": [
    {
     "data": {
      "text/plain": [
       "array([-1.69793546e-01, -4.89414266e-02, -7.13028554e-02, -1.48229718e-01,\n",
       "        1.18042826e-03, -7.14682026e-02, -1.04095339e-02, -1.19568912e-02,\n",
       "       -3.97186287e-02, -6.26974821e-03, -1.70783684e-02,  1.44474317e-02,\n",
       "       -1.83140233e-04, -1.72758015e-02,  8.15151218e-02,  3.98187078e-01,\n",
       "       -2.13449128e-01, -1.30114543e-01, -1.54291853e-01, -1.75564837e-01,\n",
       "       -3.70055091e-02, -7.35364292e-02, -2.35427469e-01, -2.19736539e-01,\n",
       "       -8.45237101e-02, -2.01347486e-02, -3.45716682e-01,  5.50467960e-02,\n",
       "       -5.45800500e-02, -1.34512814e-02, -3.21378083e-02, -3.13405325e-02,\n",
       "       -3.16487432e-01, -1.25044685e-02, -3.15442126e-02, -4.26195485e-03,\n",
       "        5.32349612e-03,  6.22242412e-04, -1.47865627e-03, -8.10964480e-03,\n",
       "        1.24366170e-02])"
      ]
     },
     "execution_count": 35,
     "metadata": {},
     "output_type": "execute_result"
    }
   ],
   "source": [
    "numbers = model.coef_[0]\n",
    "numbers"
   ]
  },
  {
   "cell_type": "code",
   "execution_count": 50,
   "metadata": {},
   "outputs": [
    {
     "data": {
      "text/html": [
       "<div>\n",
       "<style scoped>\n",
       "    .dataframe tbody tr th:only-of-type {\n",
       "        vertical-align: middle;\n",
       "    }\n",
       "\n",
       "    .dataframe tbody tr th {\n",
       "        vertical-align: top;\n",
       "    }\n",
       "\n",
       "    .dataframe thead th {\n",
       "        text-align: right;\n",
       "    }\n",
       "</style>\n",
       "<table border=\"1\" class=\"dataframe\">\n",
       "  <thead>\n",
       "    <tr style=\"text-align: right;\">\n",
       "      <th></th>\n",
       "      <th>X_variables</th>\n",
       "      <th>coef</th>\n",
       "      <th>abs_coef</th>\n",
       "    </tr>\n",
       "  </thead>\n",
       "  <tbody>\n",
       "    <tr>\n",
       "      <th>15</th>\n",
       "      <td>married_w1_married</td>\n",
       "      <td>0.398187</td>\n",
       "      <td>0.398187</td>\n",
       "    </tr>\n",
       "    <tr>\n",
       "      <th>26</th>\n",
       "      <td>parental_approval_approve</td>\n",
       "      <td>-0.345717</td>\n",
       "      <td>0.345717</td>\n",
       "    </tr>\n",
       "    <tr>\n",
       "      <th>32</th>\n",
       "      <td>age_when_met</td>\n",
       "      <td>-0.316487</td>\n",
       "      <td>0.316487</td>\n",
       "    </tr>\n",
       "    <tr>\n",
       "      <th>22</th>\n",
       "      <td>edu_gap_bin_0 to 2</td>\n",
       "      <td>-0.235427</td>\n",
       "      <td>0.235427</td>\n",
       "    </tr>\n",
       "    <tr>\n",
       "      <th>23</th>\n",
       "      <td>edu_gap_bin_3 to 4</td>\n",
       "      <td>-0.219737</td>\n",
       "      <td>0.219737</td>\n",
       "    </tr>\n",
       "    <tr>\n",
       "      <th>16</th>\n",
       "      <td>age_gap_bin_0 to 3</td>\n",
       "      <td>-0.213449</td>\n",
       "      <td>0.213449</td>\n",
       "    </tr>\n",
       "    <tr>\n",
       "      <th>19</th>\n",
       "      <td>age_gap_bin_6 to 10</td>\n",
       "      <td>-0.175565</td>\n",
       "      <td>0.175565</td>\n",
       "    </tr>\n",
       "    <tr>\n",
       "      <th>0</th>\n",
       "      <td>children_in_hh</td>\n",
       "      <td>-0.169794</td>\n",
       "      <td>0.169794</td>\n",
       "    </tr>\n",
       "    <tr>\n",
       "      <th>18</th>\n",
       "      <td>age_gap_bin_4 to 5</td>\n",
       "      <td>-0.154292</td>\n",
       "      <td>0.154292</td>\n",
       "    </tr>\n",
       "    <tr>\n",
       "      <th>3</th>\n",
       "      <td>met_online</td>\n",
       "      <td>-0.148230</td>\n",
       "      <td>0.148230</td>\n",
       "    </tr>\n",
       "    <tr>\n",
       "      <th>17</th>\n",
       "      <td>age_gap_bin_11 to 20</td>\n",
       "      <td>-0.130115</td>\n",
       "      <td>0.130115</td>\n",
       "    </tr>\n",
       "    <tr>\n",
       "      <th>24</th>\n",
       "      <td>edu_gap_bin_5 to 6</td>\n",
       "      <td>-0.084524</td>\n",
       "      <td>0.084524</td>\n",
       "    </tr>\n",
       "    <tr>\n",
       "      <th>14</th>\n",
       "      <td>met_other</td>\n",
       "      <td>0.081515</td>\n",
       "      <td>0.081515</td>\n",
       "    </tr>\n",
       "    <tr>\n",
       "      <th>21</th>\n",
       "      <td>same_sex_couple_different sex couple</td>\n",
       "      <td>-0.073536</td>\n",
       "      <td>0.073536</td>\n",
       "    </tr>\n",
       "    <tr>\n",
       "      <th>5</th>\n",
       "      <td>met_at_school</td>\n",
       "      <td>-0.071468</td>\n",
       "      <td>0.071468</td>\n",
       "    </tr>\n",
       "    <tr>\n",
       "      <th>2</th>\n",
       "      <td>religious_gap</td>\n",
       "      <td>-0.071303</td>\n",
       "      <td>0.071303</td>\n",
       "    </tr>\n",
       "    <tr>\n",
       "      <th>27</th>\n",
       "      <td>relationship_quality_w1_excellent</td>\n",
       "      <td>0.055047</td>\n",
       "      <td>0.055047</td>\n",
       "    </tr>\n",
       "    <tr>\n",
       "      <th>28</th>\n",
       "      <td>relationship_quality_w1_fair</td>\n",
       "      <td>-0.054580</td>\n",
       "      <td>0.054580</td>\n",
       "    </tr>\n",
       "    <tr>\n",
       "      <th>1</th>\n",
       "      <td>race_gap</td>\n",
       "      <td>-0.048941</td>\n",
       "      <td>0.048941</td>\n",
       "    </tr>\n",
       "    <tr>\n",
       "      <th>8</th>\n",
       "      <td>met_social</td>\n",
       "      <td>-0.039719</td>\n",
       "      <td>0.039719</td>\n",
       "    </tr>\n",
       "    <tr>\n",
       "      <th>20</th>\n",
       "      <td>age_gap_bin_&gt;=20</td>\n",
       "      <td>-0.037006</td>\n",
       "      <td>0.037006</td>\n",
       "    </tr>\n",
       "    <tr>\n",
       "      <th>30</th>\n",
       "      <td>relationship_quality_w1_poor</td>\n",
       "      <td>-0.032138</td>\n",
       "      <td>0.032138</td>\n",
       "    </tr>\n",
       "    <tr>\n",
       "      <th>34</th>\n",
       "      <td>metro</td>\n",
       "      <td>-0.031544</td>\n",
       "      <td>0.031544</td>\n",
       "    </tr>\n",
       "    <tr>\n",
       "      <th>31</th>\n",
       "      <td>relationship_quality_w1_very poor</td>\n",
       "      <td>-0.031341</td>\n",
       "      <td>0.031341</td>\n",
       "    </tr>\n",
       "    <tr>\n",
       "      <th>25</th>\n",
       "      <td>edu_gap_bin_&gt;6</td>\n",
       "      <td>-0.020135</td>\n",
       "      <td>0.020135</td>\n",
       "    </tr>\n",
       "    <tr>\n",
       "      <th>13</th>\n",
       "      <td>met_offline_dating</td>\n",
       "      <td>-0.017276</td>\n",
       "      <td>0.017276</td>\n",
       "    </tr>\n",
       "    <tr>\n",
       "      <th>10</th>\n",
       "      <td>met_f_and_f</td>\n",
       "      <td>-0.017078</td>\n",
       "      <td>0.017078</td>\n",
       "    </tr>\n",
       "    <tr>\n",
       "      <th>11</th>\n",
       "      <td>met_as_neighbors</td>\n",
       "      <td>0.014447</td>\n",
       "      <td>0.014447</td>\n",
       "    </tr>\n",
       "    <tr>\n",
       "      <th>29</th>\n",
       "      <td>relationship_quality_w1_good</td>\n",
       "      <td>-0.013451</td>\n",
       "      <td>0.013451</td>\n",
       "    </tr>\n",
       "    <tr>\n",
       "      <th>33</th>\n",
       "      <td>family_size</td>\n",
       "      <td>-0.012504</td>\n",
       "      <td>0.012504</td>\n",
       "    </tr>\n",
       "    <tr>\n",
       "      <th>40</th>\n",
       "      <td>income_gap</td>\n",
       "      <td>0.012437</td>\n",
       "      <td>0.012437</td>\n",
       "    </tr>\n",
       "    <tr>\n",
       "      <th>7</th>\n",
       "      <td>met_travel</td>\n",
       "      <td>-0.011957</td>\n",
       "      <td>0.011957</td>\n",
       "    </tr>\n",
       "    <tr>\n",
       "      <th>6</th>\n",
       "      <td>met_at_church</td>\n",
       "      <td>-0.010410</td>\n",
       "      <td>0.010410</td>\n",
       "    </tr>\n",
       "    <tr>\n",
       "      <th>39</th>\n",
       "      <td>same_political</td>\n",
       "      <td>-0.008110</td>\n",
       "      <td>0.008110</td>\n",
       "    </tr>\n",
       "    <tr>\n",
       "      <th>9</th>\n",
       "      <td>met_party</td>\n",
       "      <td>-0.006270</td>\n",
       "      <td>0.006270</td>\n",
       "    </tr>\n",
       "    <tr>\n",
       "      <th>36</th>\n",
       "      <td>region_northeast</td>\n",
       "      <td>0.005323</td>\n",
       "      <td>0.005323</td>\n",
       "    </tr>\n",
       "    <tr>\n",
       "      <th>35</th>\n",
       "      <td>region_midwest</td>\n",
       "      <td>-0.004262</td>\n",
       "      <td>0.004262</td>\n",
       "    </tr>\n",
       "    <tr>\n",
       "      <th>38</th>\n",
       "      <td>region_west</td>\n",
       "      <td>-0.001479</td>\n",
       "      <td>0.001479</td>\n",
       "    </tr>\n",
       "    <tr>\n",
       "      <th>4</th>\n",
       "      <td>met_at_work</td>\n",
       "      <td>0.001180</td>\n",
       "      <td>0.001180</td>\n",
       "    </tr>\n",
       "    <tr>\n",
       "      <th>37</th>\n",
       "      <td>region_south</td>\n",
       "      <td>0.000622</td>\n",
       "      <td>0.000622</td>\n",
       "    </tr>\n",
       "    <tr>\n",
       "      <th>12</th>\n",
       "      <td>met_public_space</td>\n",
       "      <td>-0.000183</td>\n",
       "      <td>0.000183</td>\n",
       "    </tr>\n",
       "  </tbody>\n",
       "</table>\n",
       "</div>"
      ],
      "text/plain": [
       "                             X_variables      coef  abs_coef\n",
       "15                    married_w1_married  0.398187  0.398187\n",
       "26             parental_approval_approve -0.345717  0.345717\n",
       "32                          age_when_met -0.316487  0.316487\n",
       "22                    edu_gap_bin_0 to 2 -0.235427  0.235427\n",
       "23                    edu_gap_bin_3 to 4 -0.219737  0.219737\n",
       "16                    age_gap_bin_0 to 3 -0.213449  0.213449\n",
       "19                   age_gap_bin_6 to 10 -0.175565  0.175565\n",
       "0                         children_in_hh -0.169794  0.169794\n",
       "18                    age_gap_bin_4 to 5 -0.154292  0.154292\n",
       "3                             met_online -0.148230  0.148230\n",
       "17                  age_gap_bin_11 to 20 -0.130115  0.130115\n",
       "24                    edu_gap_bin_5 to 6 -0.084524  0.084524\n",
       "14                             met_other  0.081515  0.081515\n",
       "21  same_sex_couple_different sex couple -0.073536  0.073536\n",
       "5                          met_at_school -0.071468  0.071468\n",
       "2                          religious_gap -0.071303  0.071303\n",
       "27     relationship_quality_w1_excellent  0.055047  0.055047\n",
       "28          relationship_quality_w1_fair -0.054580  0.054580\n",
       "1                               race_gap -0.048941  0.048941\n",
       "8                             met_social -0.039719  0.039719\n",
       "20                      age_gap_bin_>=20 -0.037006  0.037006\n",
       "30          relationship_quality_w1_poor -0.032138  0.032138\n",
       "34                                 metro -0.031544  0.031544\n",
       "31     relationship_quality_w1_very poor -0.031341  0.031341\n",
       "25                        edu_gap_bin_>6 -0.020135  0.020135\n",
       "13                    met_offline_dating -0.017276  0.017276\n",
       "10                           met_f_and_f -0.017078  0.017078\n",
       "11                      met_as_neighbors  0.014447  0.014447\n",
       "29          relationship_quality_w1_good -0.013451  0.013451\n",
       "33                           family_size -0.012504  0.012504\n",
       "40                            income_gap  0.012437  0.012437\n",
       "7                             met_travel -0.011957  0.011957\n",
       "6                          met_at_church -0.010410  0.010410\n",
       "39                        same_political -0.008110  0.008110\n",
       "9                              met_party -0.006270  0.006270\n",
       "36                      region_northeast  0.005323  0.005323\n",
       "35                        region_midwest -0.004262  0.004262\n",
       "38                           region_west -0.001479  0.001479\n",
       "4                            met_at_work  0.001180  0.001180\n",
       "37                          region_south  0.000622  0.000622\n",
       "12                      met_public_space -0.000183  0.000183"
      ]
     },
     "execution_count": 50,
     "metadata": {},
     "output_type": "execute_result"
    }
   ],
   "source": [
    "coef_df=pd.DataFrame(numbers,columns,columns=['coef'])\n",
    "coef_df=coef_df.reset_index()\n",
    "coef_df=coef_df.rename(columns={'index':'X_variables'})\n",
    "coef_df['abs_coef'] = abs(coef_df['coef'])\n",
    "coef_df = coef_df.sort_values(['abs_coef'],ascending=False)\n",
    "coef_df"
   ]
  }
 ],
 "metadata": {
  "kernelspec": {
   "display_name": "Python 3",
   "language": "python",
   "name": "python3"
  },
  "language_info": {
   "codemirror_mode": {
    "name": "ipython",
    "version": 3
   },
   "file_extension": ".py",
   "mimetype": "text/x-python",
   "name": "python",
   "nbconvert_exporter": "python",
   "pygments_lexer": "ipython3",
   "version": "3.6.9"
  }
 },
 "nbformat": 4,
 "nbformat_minor": 2
}
