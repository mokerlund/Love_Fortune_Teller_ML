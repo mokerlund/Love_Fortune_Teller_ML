{
 "cells": [
  {
   "cell_type": "code",
   "execution_count": 1,
   "metadata": {},
   "outputs": [],
   "source": [
    "import pandas as pd\n",
    "from sqlalchemy import create_engine\n",
    "import numpy as np\n",
    "from pivottablejs import pivot_ui\n",
    "from jupyter_core.paths import jupyter_data_dir"
   ]
  },
  {
   "cell_type": "code",
   "execution_count": 2,
   "metadata": {},
   "outputs": [],
   "source": [
    "import matplotlib.pyplot as plt\n",
    "from sklearn.linear_model import LinearRegression"
   ]
  },
  {
   "cell_type": "markdown",
   "metadata": {},
   "source": [
    "## Read in and Clean Data"
   ]
  },
  {
   "cell_type": "code",
   "execution_count": 3,
   "metadata": {},
   "outputs": [],
   "source": [
    "df = pd.read_csv('project_3_final_table.csv')"
   ]
  },
  {
   "cell_type": "code",
   "execution_count": 4,
   "metadata": {},
   "outputs": [
    {
     "data": {
      "text/plain": [
       "Index(['Unnamed: 0', 'caseid_new', 'children_in_hh', 'age_difference',\n",
       "       'race_gap', 'religious_gap', 'edu_gap', 'met_online', 'met_at_work',\n",
       "       'met_at_school', 'met_at_church', 'met_travel', 'met_social',\n",
       "       'met_party', 'met_f_and_f', 'met_as_neighbors', 'met_public_space',\n",
       "       'met_offline_dating', 'met_other', 'how_met_count', 'relationship_len',\n",
       "       'partner_deceased', 'married_w1_married', 'married_w1_not married',\n",
       "       'age_gap_bin_0 to 3', 'age_gap_bin_11 to 20', 'age_gap_bin_4 to 5',\n",
       "       'age_gap_bin_6 to 10', 'age_gap_bin_>=20',\n",
       "       'same_sex_couple_different sex couple',\n",
       "       'same_sex_couple_same-sex couple', 'edu_gap_bin_0 to 2',\n",
       "       'edu_gap_bin_3 to 4', 'edu_gap_bin_5 to 6', 'edu_gap_bin_>6',\n",
       "       'parental_approval_approve', 'parental_approval_dont_approve',\n",
       "       'relationship_quality_w1_excellent', 'relationship_quality_w1_fair',\n",
       "       'relationship_quality_w1_good', 'relationship_quality_w1_poor',\n",
       "       'relationship_quality_w1_very poor', 'age_when_met', 'family_size',\n",
       "       'region', 'metro', 'region_midwest', 'region_northeast', 'region_south',\n",
       "       'region_west', 'partner_political', 'resondent_political',\n",
       "       'income_gap_raw', 'same_political', 'income_gap',\n",
       "       'respondent_earn_more', 'relationship_quality_w1',\n",
       "       'relationship_len_cat'],\n",
       "      dtype='object')"
      ]
     },
     "execution_count": 4,
     "metadata": {},
     "output_type": "execute_result"
    }
   ],
   "source": [
    "df.columns"
   ]
  },
  {
   "cell_type": "code",
   "execution_count": 5,
   "metadata": {},
   "outputs": [
    {
     "data": {
      "text/html": [
       "<div>\n",
       "<style scoped>\n",
       "    .dataframe tbody tr th:only-of-type {\n",
       "        vertical-align: middle;\n",
       "    }\n",
       "\n",
       "    .dataframe tbody tr th {\n",
       "        vertical-align: top;\n",
       "    }\n",
       "\n",
       "    .dataframe thead th {\n",
       "        text-align: right;\n",
       "    }\n",
       "</style>\n",
       "<table border=\"1\" class=\"dataframe\">\n",
       "  <thead>\n",
       "    <tr style=\"text-align: right;\">\n",
       "      <th></th>\n",
       "      <th>Unnamed: 0</th>\n",
       "      <th>caseid_new</th>\n",
       "      <th>children_in_hh</th>\n",
       "      <th>age_difference</th>\n",
       "      <th>race_gap</th>\n",
       "      <th>religious_gap</th>\n",
       "      <th>edu_gap</th>\n",
       "      <th>met_online</th>\n",
       "      <th>met_at_work</th>\n",
       "      <th>met_at_school</th>\n",
       "      <th>...</th>\n",
       "      <th>region_south</th>\n",
       "      <th>region_west</th>\n",
       "      <th>partner_political</th>\n",
       "      <th>resondent_political</th>\n",
       "      <th>income_gap_raw</th>\n",
       "      <th>same_political</th>\n",
       "      <th>income_gap</th>\n",
       "      <th>respondent_earn_more</th>\n",
       "      <th>relationship_quality_w1</th>\n",
       "      <th>relationship_len_cat</th>\n",
       "    </tr>\n",
       "  </thead>\n",
       "  <tbody>\n",
       "    <tr>\n",
       "      <th>0</th>\n",
       "      <td>0</td>\n",
       "      <td>22526</td>\n",
       "      <td>0</td>\n",
       "      <td>4.0</td>\n",
       "      <td>1</td>\n",
       "      <td>1</td>\n",
       "      <td>2.0</td>\n",
       "      <td>1</td>\n",
       "      <td>0</td>\n",
       "      <td>0</td>\n",
       "      <td>...</td>\n",
       "      <td>0</td>\n",
       "      <td>0</td>\n",
       "      <td>democrat</td>\n",
       "      <td>democrat</td>\n",
       "      <td>partner earned more</td>\n",
       "      <td>1</td>\n",
       "      <td>1.0</td>\n",
       "      <td>0.0</td>\n",
       "      <td>good</td>\n",
       "      <td>second_quartile</td>\n",
       "    </tr>\n",
       "    <tr>\n",
       "      <th>1</th>\n",
       "      <td>1</td>\n",
       "      <td>23286</td>\n",
       "      <td>0</td>\n",
       "      <td>2.0</td>\n",
       "      <td>0</td>\n",
       "      <td>1</td>\n",
       "      <td>1.0</td>\n",
       "      <td>0</td>\n",
       "      <td>0</td>\n",
       "      <td>1</td>\n",
       "      <td>...</td>\n",
       "      <td>0</td>\n",
       "      <td>1</td>\n",
       "      <td>democrat</td>\n",
       "      <td>democrat</td>\n",
       "      <td>i earned more</td>\n",
       "      <td>1</td>\n",
       "      <td>1.0</td>\n",
       "      <td>1.0</td>\n",
       "      <td>good</td>\n",
       "      <td>second_quartile</td>\n",
       "    </tr>\n",
       "    <tr>\n",
       "      <th>2</th>\n",
       "      <td>2</td>\n",
       "      <td>26315</td>\n",
       "      <td>0</td>\n",
       "      <td>9.0</td>\n",
       "      <td>0</td>\n",
       "      <td>1</td>\n",
       "      <td>2.0</td>\n",
       "      <td>1</td>\n",
       "      <td>0</td>\n",
       "      <td>0</td>\n",
       "      <td>...</td>\n",
       "      <td>1</td>\n",
       "      <td>0</td>\n",
       "      <td>democrat</td>\n",
       "      <td>democrat</td>\n",
       "      <td>i earned more</td>\n",
       "      <td>1</td>\n",
       "      <td>1.0</td>\n",
       "      <td>1.0</td>\n",
       "      <td>good</td>\n",
       "      <td>bottom_quartile</td>\n",
       "    </tr>\n",
       "    <tr>\n",
       "      <th>3</th>\n",
       "      <td>3</td>\n",
       "      <td>28536</td>\n",
       "      <td>0</td>\n",
       "      <td>2.0</td>\n",
       "      <td>0</td>\n",
       "      <td>1</td>\n",
       "      <td>1.0</td>\n",
       "      <td>0</td>\n",
       "      <td>0</td>\n",
       "      <td>0</td>\n",
       "      <td>...</td>\n",
       "      <td>0</td>\n",
       "      <td>0</td>\n",
       "      <td>democrat</td>\n",
       "      <td>democrat</td>\n",
       "      <td>i earned more</td>\n",
       "      <td>1</td>\n",
       "      <td>1.0</td>\n",
       "      <td>1.0</td>\n",
       "      <td>good</td>\n",
       "      <td>second_quartile</td>\n",
       "    </tr>\n",
       "    <tr>\n",
       "      <th>4</th>\n",
       "      <td>4</td>\n",
       "      <td>29584</td>\n",
       "      <td>0</td>\n",
       "      <td>7.0</td>\n",
       "      <td>0</td>\n",
       "      <td>0</td>\n",
       "      <td>0.0</td>\n",
       "      <td>0</td>\n",
       "      <td>1</td>\n",
       "      <td>0</td>\n",
       "      <td>...</td>\n",
       "      <td>1</td>\n",
       "      <td>0</td>\n",
       "      <td>democrat</td>\n",
       "      <td>democrat</td>\n",
       "      <td>partner earned more</td>\n",
       "      <td>1</td>\n",
       "      <td>1.0</td>\n",
       "      <td>0.0</td>\n",
       "      <td>good</td>\n",
       "      <td>top_quartile</td>\n",
       "    </tr>\n",
       "  </tbody>\n",
       "</table>\n",
       "<p>5 rows × 58 columns</p>\n",
       "</div>"
      ],
      "text/plain": [
       "   Unnamed: 0  caseid_new  children_in_hh  age_difference  race_gap  \\\n",
       "0           0       22526               0             4.0         1   \n",
       "1           1       23286               0             2.0         0   \n",
       "2           2       26315               0             9.0         0   \n",
       "3           3       28536               0             2.0         0   \n",
       "4           4       29584               0             7.0         0   \n",
       "\n",
       "   religious_gap  edu_gap  met_online  met_at_work  met_at_school  ...  \\\n",
       "0              1      2.0           1            0              0  ...   \n",
       "1              1      1.0           0            0              1  ...   \n",
       "2              1      2.0           1            0              0  ...   \n",
       "3              1      1.0           0            0              0  ...   \n",
       "4              0      0.0           0            1              0  ...   \n",
       "\n",
       "   region_south  region_west  partner_political  resondent_political  \\\n",
       "0             0            0           democrat             democrat   \n",
       "1             0            1           democrat             democrat   \n",
       "2             1            0           democrat             democrat   \n",
       "3             0            0           democrat             democrat   \n",
       "4             1            0           democrat             democrat   \n",
       "\n",
       "        income_gap_raw  same_political  income_gap  respondent_earn_more  \\\n",
       "0  partner earned more               1         1.0                   0.0   \n",
       "1        i earned more               1         1.0                   1.0   \n",
       "2        i earned more               1         1.0                   1.0   \n",
       "3        i earned more               1         1.0                   1.0   \n",
       "4  partner earned more               1         1.0                   0.0   \n",
       "\n",
       "   relationship_quality_w1  relationship_len_cat  \n",
       "0                     good       second_quartile  \n",
       "1                     good       second_quartile  \n",
       "2                     good       bottom_quartile  \n",
       "3                     good       second_quartile  \n",
       "4                     good          top_quartile  \n",
       "\n",
       "[5 rows x 58 columns]"
      ]
     },
     "execution_count": 5,
     "metadata": {},
     "output_type": "execute_result"
    }
   ],
   "source": [
    "df.head()"
   ]
  },
  {
   "cell_type": "code",
   "execution_count": 6,
   "metadata": {},
   "outputs": [],
   "source": [
    "# check which columns have NaN\n",
    "# df.isnull().sum()\n",
    "\n",
    "# age_difference                           19\n",
    "# relationship_len                         27\n",
    "# age_when_met                             15\n",
    "# family_size                              13\n",
    "# income_gap                               31\n",
    "# respondent_earn_more                    405\n",
    "# relationship_quality_w1                  13"
   ]
  },
  {
   "cell_type": "code",
   "execution_count": 7,
   "metadata": {},
   "outputs": [
    {
     "data": {
      "text/plain": [
       "excellent    1771\n",
       "good          911\n",
       "fair          252\n",
       "poor           42\n",
       "very poor      20\n",
       "Name: relationship_quality_w1, dtype: int64"
      ]
     },
     "execution_count": 7,
     "metadata": {},
     "output_type": "execute_result"
    }
   ],
   "source": [
    "df['relationship_quality_w1'].value_counts()"
   ]
  },
  {
   "cell_type": "code",
   "execution_count": 8,
   "metadata": {},
   "outputs": [
    {
     "data": {
      "text/plain": [
       "1.0    1332\n",
       "0.0    1272\n",
       "Name: respondent_earn_more, dtype: int64"
      ]
     },
     "execution_count": 8,
     "metadata": {},
     "output_type": "execute_result"
    }
   ],
   "source": [
    "df['respondent_earn_more'].value_counts()"
   ]
  },
  {
   "cell_type": "code",
   "execution_count": 9,
   "metadata": {},
   "outputs": [],
   "source": [
    "# Fill NaN with either mode or mean\n",
    "\n",
    "df['age_difference'].fillna(round(df['age_difference'].mean()), inplace=True)\n",
    "df['relationship_len'].fillna(round(df['relationship_len'].mean()), inplace=True)\n",
    "df['age_when_met'].fillna(round(df['age_when_met'].mean()), inplace=True)\n",
    "df['family_size'].fillna(round(df['family_size'].mean()), inplace=True)\n",
    "df['income_gap'].fillna(round(df['income_gap'].mean()), inplace=True)\n",
    "df['relationship_quality_w1'].fillna(0, inplace=True)\n",
    "df['respondent_earn_more'].fillna(0, inplace=True)"
   ]
  },
  {
   "cell_type": "code",
   "execution_count": 10,
   "metadata": {},
   "outputs": [],
   "source": [
    "# df.isnull().sum()"
   ]
  },
  {
   "cell_type": "markdown",
   "metadata": {},
   "source": [
    "## Select columns for regression"
   ]
  },
  {
   "cell_type": "code",
   "execution_count": 11,
   "metadata": {},
   "outputs": [
    {
     "data": {
      "text/plain": [
       "Index(['Unnamed: 0', 'caseid_new', 'children_in_hh', 'age_difference',\n",
       "       'race_gap', 'religious_gap', 'edu_gap', 'met_online', 'met_at_work',\n",
       "       'met_at_school', 'met_at_church', 'met_travel', 'met_social',\n",
       "       'met_party', 'met_f_and_f', 'met_as_neighbors', 'met_public_space',\n",
       "       'met_offline_dating', 'met_other', 'how_met_count', 'relationship_len',\n",
       "       'partner_deceased', 'married_w1_married', 'married_w1_not married',\n",
       "       'age_gap_bin_0 to 3', 'age_gap_bin_11 to 20', 'age_gap_bin_4 to 5',\n",
       "       'age_gap_bin_6 to 10', 'age_gap_bin_>=20',\n",
       "       'same_sex_couple_different sex couple',\n",
       "       'same_sex_couple_same-sex couple', 'edu_gap_bin_0 to 2',\n",
       "       'edu_gap_bin_3 to 4', 'edu_gap_bin_5 to 6', 'edu_gap_bin_>6',\n",
       "       'parental_approval_approve', 'parental_approval_dont_approve',\n",
       "       'relationship_quality_w1_excellent', 'relationship_quality_w1_fair',\n",
       "       'relationship_quality_w1_good', 'relationship_quality_w1_poor',\n",
       "       'relationship_quality_w1_very poor', 'age_when_met', 'family_size',\n",
       "       'region', 'metro', 'region_midwest', 'region_northeast', 'region_south',\n",
       "       'region_west', 'partner_political', 'resondent_political',\n",
       "       'income_gap_raw', 'same_political', 'income_gap',\n",
       "       'respondent_earn_more', 'relationship_quality_w1',\n",
       "       'relationship_len_cat'],\n",
       "      dtype='object')"
      ]
     },
     "execution_count": 11,
     "metadata": {},
     "output_type": "execute_result"
    }
   ],
   "source": [
    "df.columns"
   ]
  },
  {
   "cell_type": "code",
   "execution_count": 12,
   "metadata": {},
   "outputs": [
    {
     "data": {
      "text/plain": [
       "1    1254\n",
       "2    1196\n",
       "3     437\n",
       "4      71\n",
       "0      36\n",
       "5      12\n",
       "6       3\n",
       "Name: how_met_count, dtype: int64"
      ]
     },
     "execution_count": 12,
     "metadata": {},
     "output_type": "execute_result"
    }
   ],
   "source": [
    "df['how_met_count'].value_counts()"
   ]
  },
  {
   "cell_type": "code",
   "execution_count": 13,
   "metadata": {},
   "outputs": [
    {
     "name": "stdout",
     "output_type": "stream",
     "text": [
      "(3009, 33)\n"
     ]
    }
   ],
   "source": [
    "### Megan's columns ####\n",
    "# 'children_in_hh', 'age_difference', 'race_gap', 'religious_gap',\n",
    "#        'edu_gap', 'married_w1_married', 'same_sex_couple_different sex couple',\n",
    "#        'parental_approval_approve', 'age_when_met', 'family_size', 'region',\n",
    "#        'metro', 'same_political', 'income_gap', 'how_met'\n",
    "\n",
    "X = df[['children_in_hh', 'race_gap', 'religious_gap',\n",
    "        'met_online', 'met_at_work','met_at_school', 'met_at_church', 'met_travel', 'met_social',\n",
    "        'met_party', 'met_f_and_f', 'met_as_neighbors', 'met_public_space',\n",
    "        'met_offline_dating','met_other',\n",
    "        'married_w1_married', \n",
    "        'age_gap_bin_0 to 3', 'age_gap_bin_11 to 20', 'age_gap_bin_4 to 5','age_gap_bin_6 to 10',\n",
    "        'same_sex_couple_different sex couple',\n",
    "        'edu_gap_bin_0 to 2','edu_gap_bin_3 to 4','edu_gap_bin_5 to 6',\n",
    "        'parental_approval_approve','age_when_met', 'family_size','metro',\n",
    "        'region_midwest', 'region_northeast', 'region_south',\n",
    "        'same_political', 'income_gap']]\n",
    "\n",
    "print(X.shape)"
   ]
  },
  {
   "cell_type": "code",
   "execution_count": 14,
   "metadata": {},
   "outputs": [],
   "source": [
    "# ### All columns ####\n",
    "\n",
    "# X = df[['children_in_hh', 'race_gap', 'religious_gap',\n",
    "#         'met_online', 'met_at_work','met_at_school', 'met_at_church', 'met_travel', 'met_social',\n",
    "#         'met_party', 'met_f_and_f', 'met_as_neighbors', 'met_public_space',\n",
    "#         'met_offline_dating', 'met_other',\n",
    "#         'married_w1_married', \n",
    "#         'age_gap_bin_0 to 3', 'age_gap_bin_11 to 20', 'age_gap_bin_4 to 5','age_gap_bin_6 to 10', 'age_gap_bin_>=20',\n",
    "#         'same_sex_couple_different sex couple',\n",
    "#         'edu_gap_bin_0 to 2','edu_gap_bin_3 to 4','edu_gap_bin_5 to 6','edu_gap_bin_>6',\n",
    "#         'parental_approval_approve',\n",
    "#         'relationship_quality_w1_excellent', 'relationship_quality_w1_fair',\n",
    "#         'relationship_quality_w1_good', 'relationship_quality_w1_poor',\n",
    "#         'relationship_quality_w1_very poor', 'age_when_met', 'family_size','metro',\n",
    "#         'region_midwest', 'region_northeast', 'region_south','region_west',\n",
    "#         'same_political', 'income_gap']]"
   ]
  },
  {
   "cell_type": "code",
   "execution_count": 15,
   "metadata": {},
   "outputs": [],
   "source": [
    "# X = df[['children_in_hh', 'race_gap', 'religious_gap','married_w1_married', \n",
    "#         'age_gap_bin_0 to 3', 'age_gap_bin_11 to 20', 'age_gap_bin_4 to 5','age_gap_bin_6 to 10', 'age_gap_bin_>=20',\n",
    "#         'same_sex_couple_different sex couple',\n",
    "#         'edu_gap_bin_0 to 2','edu_gap_bin_3 to 4','edu_gap_bin_5 to 6','edu_gap_bin_>6',\n",
    "#         'parental_approval_approve','age_when_met', 'family_size','metro',\n",
    "#         'region_midwest', 'region_northeast', 'region_south','region_west',\n",
    "#         'same_political', 'income_gap']]"
   ]
  },
  {
   "cell_type": "code",
   "execution_count": 16,
   "metadata": {},
   "outputs": [],
   "source": [
    "# X = df[['children_in_hh', 'race_gap', 'religious_gap',\n",
    "#         'met_online', 'age_gap_bin_0 to 3','same_sex_couple_different sex couple',\n",
    "#         'edu_gap_bin_0 to 2','parental_approval_approve',\n",
    "#         'relationship_quality_w1_excellent','age_when_met', 'family_size','metro',\n",
    "#         'region_midwest', 'region_northeast', 'region_south','region_west',\n",
    "#         'same_political', 'income_gap']]"
   ]
  },
  {
   "cell_type": "code",
   "execution_count": 17,
   "metadata": {},
   "outputs": [],
   "source": [
    "##  only the variables with positive coefficient\n",
    "\n",
    "# X = df[['met_at_work','married_w1_married', 'relationship_quality_w1_excellent', 'region_northeast']]"
   ]
  },
  {
   "cell_type": "markdown",
   "metadata": {},
   "source": [
    "## Genereate Y and train test split"
   ]
  },
  {
   "cell_type": "code",
   "execution_count": 18,
   "metadata": {},
   "outputs": [
    {
     "name": "stdout",
     "output_type": "stream",
     "text": [
      "(3009, 1)\n"
     ]
    }
   ],
   "source": [
    "y = df[\"relationship_len\"].values.reshape(-1, 1)\n",
    "\n",
    "print(y.shape)"
   ]
  },
  {
   "cell_type": "code",
   "execution_count": 19,
   "metadata": {},
   "outputs": [],
   "source": [
    "from sklearn.model_selection import train_test_split\n",
    "X_train, X_test, y_train, y_test = train_test_split(X, y, random_state=42)"
   ]
  },
  {
   "cell_type": "markdown",
   "metadata": {},
   "source": [
    "## Scale the data"
   ]
  },
  {
   "cell_type": "code",
   "execution_count": 20,
   "metadata": {},
   "outputs": [],
   "source": [
    "from sklearn.preprocessing import StandardScaler\n",
    "X_scaler = StandardScaler().fit(X_train)\n",
    "y_scaler = StandardScaler().fit(y_train)"
   ]
  },
  {
   "cell_type": "code",
   "execution_count": 21,
   "metadata": {},
   "outputs": [],
   "source": [
    "X_train_scaled = X_scaler.transform(X_train)\n",
    "X_test_scaled = X_scaler.transform(X_test)\n",
    "X_scaled = X_scaler.transform(X)\n",
    "\n",
    "y_train_scaled = y_scaler.transform(y_train)\n",
    "y_test_scaled = y_scaler.transform(y_test)\n",
    "y_scaled = y_scaler.transform(y)"
   ]
  },
  {
   "cell_type": "markdown",
   "metadata": {},
   "source": [
    "## Fit model and run R2 and MSE scores"
   ]
  },
  {
   "cell_type": "code",
   "execution_count": 22,
   "metadata": {},
   "outputs": [],
   "source": [
    "model = LinearRegression()"
   ]
  },
  {
   "cell_type": "code",
   "execution_count": 23,
   "metadata": {},
   "outputs": [],
   "source": [
    "#### Using unscaled data\n",
    "# model.fit(X_train, y_train)"
   ]
  },
  {
   "cell_type": "code",
   "execution_count": 24,
   "metadata": {},
   "outputs": [
    {
     "data": {
      "text/plain": [
       "LinearRegression(copy_X=True, fit_intercept=True, n_jobs=None, normalize=False)"
      ]
     },
     "execution_count": 24,
     "metadata": {},
     "output_type": "execute_result"
    }
   ],
   "source": [
    "#### Using scaled data\n",
    "\n",
    "model.fit(X_train_scaled, y_train_scaled)"
   ]
  },
  {
   "cell_type": "code",
   "execution_count": 25,
   "metadata": {},
   "outputs": [],
   "source": [
    "##################################################################################\n",
    "############## Calculate Model Performance Metrics #####\n",
    "##################################################################################"
   ]
  },
  {
   "cell_type": "code",
   "execution_count": 26,
   "metadata": {},
   "outputs": [],
   "source": [
    "predictions_test = model.predict(X_test_scaled)"
   ]
  },
  {
   "cell_type": "code",
   "execution_count": 27,
   "metadata": {},
   "outputs": [
    {
     "name": "stdout",
     "output_type": "stream",
     "text": [
      "Testing_MSE: 0.5433874868840065, Testing_R2: 0.4700614296473073\n"
     ]
    }
   ],
   "source": [
    "from sklearn.metrics import mean_squared_error\n",
    " \n",
    "MSE = mean_squared_error(y_test_scaled, predictions_test)\n",
    "r2 = model.score(X_test_scaled, y_test_scaled)\n",
    " \n",
    "print(f\"Testing_MSE: {MSE}, Testing_R2: {r2}\")"
   ]
  },
  {
   "cell_type": "code",
   "execution_count": 28,
   "metadata": {},
   "outputs": [
    {
     "name": "stdout",
     "output_type": "stream",
     "text": [
      "training score:  0.48471784606841506\n",
      "test score:  0.4700614296473073\n"
     ]
    }
   ],
   "source": [
    "###### Another Way to calculate R2 #########\n",
    "\n",
    "training_score = model.score(X_train_scaled, y_train_scaled)\n",
    "testing_score = model.score(X_test_scaled, y_test_scaled)\n",
    "\n",
    "print(\"training score: \", training_score)\n",
    "print(\"test score: \", testing_score)"
   ]
  },
  {
   "cell_type": "code",
   "execution_count": 29,
   "metadata": {},
   "outputs": [
    {
     "data": {
      "image/png": "[encoded data removed]",
      "text/plain": [
       "<Figure size 432x288 with 1 Axes>"
      ]
     },
     "metadata": {
      "needs_background": "light"
     },
     "output_type": "display_data"
    }
   ],
   "source": [
    "################### Check Residual Plots ####################\n",
    "\n",
    "\n",
    "# Make predictions (scaled data)\n",
    "\n",
    "# predictions_training = model.predict(X_train_scaled)\n",
    "# predictions_test = model.predict(X_test_scaled)\n",
    "predictions_all_X = model.predict(X_scaled)\n",
    "\n",
    "\n",
    "\n",
    "################### Plot Residuals (scaled data)\n",
    "\n",
    "# # 1) Training Data Residual Plot #####\n",
    "\n",
    "# plt.scatter(predictions_training, predictions_training - y_train_scaled)\n",
    "# plt.hlines(y=0, xmin=predictions_training.min(), xmax=predictions_training.max())\n",
    "\n",
    "\n",
    "# # 2) Test Data Residual Plot #####\n",
    "\n",
    "# plt.scatter(predictions_test, predictions_test - y_test_scaled)\n",
    "# plt.hlines(y=0, xmin=predictions_test.min(), xmax=predictions_test.max())\n",
    "\n",
    "\n",
    "# 3) All Data ####\n",
    "\n",
    "plt.scatter(predictions_all_X, predictions_all_X - y_scaled)\n",
    "plt.hlines(y=0, xmin=predictions_all_X.min(), xmax=predictions_all_X.max())\n",
    "\n",
    "\n",
    "plt.show()"
   ]
  },
  {
   "cell_type": "markdown",
   "metadata": {},
   "source": [
    "## Print out coefficients"
   ]
  },
  {
   "cell_type": "code",
   "execution_count": 30,
   "metadata": {},
   "outputs": [
    {
     "name": "stdout",
     "output_type": "stream",
     "text": [
      "Weight coefficients:  [[-0.17715818 -0.05483112 -0.07781963 -0.14793812 -0.00277086 -0.06432209\n",
      "  -0.00896388 -0.01024556 -0.04098941 -0.00615756 -0.02447235  0.01107447\n",
      "  -0.00196395 -0.02160024  0.08637764  0.41415649 -0.12974603 -0.08274601\n",
      "  -0.09400673 -0.11484528 -0.07852463 -0.19665036 -0.18370249 -0.06675242\n",
      "  -0.32306003 -0.3098302  -0.01387314 -0.03204563 -0.00182221  0.00692516\n",
      "   0.00350444 -0.00059348  0.00660748]]\n"
     ]
    }
   ],
   "source": [
    "print('Weight coefficients: ', model.coef_)"
   ]
  },
  {
   "cell_type": "code",
   "execution_count": 31,
   "metadata": {},
   "outputs": [
    {
     "name": "stdout",
     "output_type": "stream",
     "text": [
      "y-axis intercept:  [1.77289314e-16]\n"
     ]
    }
   ],
   "source": [
    "print('y-axis intercept: ', model.intercept_) "
   ]
  },
  {
   "cell_type": "markdown",
   "metadata": {},
   "source": [
    "## Make the coefficients more readable"
   ]
  },
  {
   "cell_type": "code",
   "execution_count": 32,
   "metadata": {},
   "outputs": [
    {
     "data": {
      "text/plain": [
       "Index(['children_in_hh', 'race_gap', 'religious_gap', 'met_online',\n",
       "       'met_at_work', 'met_at_school', 'met_at_church', 'met_travel',\n",
       "       'met_social', 'met_party', 'met_f_and_f', 'met_as_neighbors',\n",
       "       'met_public_space', 'met_offline_dating', 'met_other',\n",
       "       'married_w1_married', 'age_gap_bin_0 to 3', 'age_gap_bin_11 to 20',\n",
       "       'age_gap_bin_4 to 5', 'age_gap_bin_6 to 10',\n",
       "       'same_sex_couple_different sex couple', 'edu_gap_bin_0 to 2',\n",
       "       'edu_gap_bin_3 to 4', 'edu_gap_bin_5 to 6', 'parental_approval_approve',\n",
       "       'age_when_met', 'family_size', 'metro', 'region_midwest',\n",
       "       'region_northeast', 'region_south', 'same_political', 'income_gap'],\n",
       "      dtype='object')"
      ]
     },
     "execution_count": 32,
     "metadata": {},
     "output_type": "execute_result"
    }
   ],
   "source": [
    "columns = X.columns\n",
    "columns"
   ]
  },
  {
   "cell_type": "code",
   "execution_count": 33,
   "metadata": {},
   "outputs": [
    {
     "data": {
      "text/plain": [
       "array([-0.17715818, -0.05483112, -0.07781963, -0.14793812, -0.00277086,\n",
       "       -0.06432209, -0.00896388, -0.01024556, -0.04098941, -0.00615756,\n",
       "       -0.02447235,  0.01107447, -0.00196395, -0.02160024,  0.08637764,\n",
       "        0.41415649, -0.12974603, -0.08274601, -0.09400673, -0.11484528,\n",
       "       -0.07852463, -0.19665036, -0.18370249, -0.06675242, -0.32306003,\n",
       "       -0.3098302 , -0.01387314, -0.03204563, -0.00182221,  0.00692516,\n",
       "        0.00350444, -0.00059348,  0.00660748])"
      ]
     },
     "execution_count": 33,
     "metadata": {},
     "output_type": "execute_result"
    }
   ],
   "source": [
    "numbers = model.coef_[0]\n",
    "numbers"
   ]
  },
  {
   "cell_type": "code",
   "execution_count": 34,
   "metadata": {},
   "outputs": [
    {
     "data": {
      "text/html": [
       "<div>\n",
       "<style scoped>\n",
       "    .dataframe tbody tr th:only-of-type {\n",
       "        vertical-align: middle;\n",
       "    }\n",
       "\n",
       "    .dataframe tbody tr th {\n",
       "        vertical-align: top;\n",
       "    }\n",
       "\n",
       "    .dataframe thead th {\n",
       "        text-align: right;\n",
       "    }\n",
       "</style>\n",
       "<table border=\"1\" class=\"dataframe\">\n",
       "  <thead>\n",
       "    <tr style=\"text-align: right;\">\n",
       "      <th></th>\n",
       "      <th>X_variables</th>\n",
       "      <th>coef</th>\n",
       "      <th>abs_coef</th>\n",
       "    </tr>\n",
       "  </thead>\n",
       "  <tbody>\n",
       "    <tr>\n",
       "      <th>15</th>\n",
       "      <td>married_w1_married</td>\n",
       "      <td>0.414156</td>\n",
       "      <td>0.414156</td>\n",
       "    </tr>\n",
       "    <tr>\n",
       "      <th>24</th>\n",
       "      <td>parental_approval_approve</td>\n",
       "      <td>-0.323060</td>\n",
       "      <td>0.323060</td>\n",
       "    </tr>\n",
       "    <tr>\n",
       "      <th>25</th>\n",
       "      <td>age_when_met</td>\n",
       "      <td>-0.309830</td>\n",
       "      <td>0.309830</td>\n",
       "    </tr>\n",
       "    <tr>\n",
       "      <th>21</th>\n",
       "      <td>edu_gap_bin_0 to 2</td>\n",
       "      <td>-0.196650</td>\n",
       "      <td>0.196650</td>\n",
       "    </tr>\n",
       "    <tr>\n",
       "      <th>22</th>\n",
       "      <td>edu_gap_bin_3 to 4</td>\n",
       "      <td>-0.183702</td>\n",
       "      <td>0.183702</td>\n",
       "    </tr>\n",
       "    <tr>\n",
       "      <th>0</th>\n",
       "      <td>children_in_hh</td>\n",
       "      <td>-0.177158</td>\n",
       "      <td>0.177158</td>\n",
       "    </tr>\n",
       "    <tr>\n",
       "      <th>3</th>\n",
       "      <td>met_online</td>\n",
       "      <td>-0.147938</td>\n",
       "      <td>0.147938</td>\n",
       "    </tr>\n",
       "    <tr>\n",
       "      <th>16</th>\n",
       "      <td>age_gap_bin_0 to 3</td>\n",
       "      <td>-0.129746</td>\n",
       "      <td>0.129746</td>\n",
       "    </tr>\n",
       "    <tr>\n",
       "      <th>19</th>\n",
       "      <td>age_gap_bin_6 to 10</td>\n",
       "      <td>-0.114845</td>\n",
       "      <td>0.114845</td>\n",
       "    </tr>\n",
       "    <tr>\n",
       "      <th>18</th>\n",
       "      <td>age_gap_bin_4 to 5</td>\n",
       "      <td>-0.094007</td>\n",
       "      <td>0.094007</td>\n",
       "    </tr>\n",
       "    <tr>\n",
       "      <th>14</th>\n",
       "      <td>met_other</td>\n",
       "      <td>0.086378</td>\n",
       "      <td>0.086378</td>\n",
       "    </tr>\n",
       "    <tr>\n",
       "      <th>17</th>\n",
       "      <td>age_gap_bin_11 to 20</td>\n",
       "      <td>-0.082746</td>\n",
       "      <td>0.082746</td>\n",
       "    </tr>\n",
       "    <tr>\n",
       "      <th>20</th>\n",
       "      <td>same_sex_couple_different sex couple</td>\n",
       "      <td>-0.078525</td>\n",
       "      <td>0.078525</td>\n",
       "    </tr>\n",
       "    <tr>\n",
       "      <th>2</th>\n",
       "      <td>religious_gap</td>\n",
       "      <td>-0.077820</td>\n",
       "      <td>0.077820</td>\n",
       "    </tr>\n",
       "    <tr>\n",
       "      <th>23</th>\n",
       "      <td>edu_gap_bin_5 to 6</td>\n",
       "      <td>-0.066752</td>\n",
       "      <td>0.066752</td>\n",
       "    </tr>\n",
       "    <tr>\n",
       "      <th>5</th>\n",
       "      <td>met_at_school</td>\n",
       "      <td>-0.064322</td>\n",
       "      <td>0.064322</td>\n",
       "    </tr>\n",
       "    <tr>\n",
       "      <th>1</th>\n",
       "      <td>race_gap</td>\n",
       "      <td>-0.054831</td>\n",
       "      <td>0.054831</td>\n",
       "    </tr>\n",
       "    <tr>\n",
       "      <th>8</th>\n",
       "      <td>met_social</td>\n",
       "      <td>-0.040989</td>\n",
       "      <td>0.040989</td>\n",
       "    </tr>\n",
       "    <tr>\n",
       "      <th>27</th>\n",
       "      <td>metro</td>\n",
       "      <td>-0.032046</td>\n",
       "      <td>0.032046</td>\n",
       "    </tr>\n",
       "    <tr>\n",
       "      <th>10</th>\n",
       "      <td>met_f_and_f</td>\n",
       "      <td>-0.024472</td>\n",
       "      <td>0.024472</td>\n",
       "    </tr>\n",
       "    <tr>\n",
       "      <th>13</th>\n",
       "      <td>met_offline_dating</td>\n",
       "      <td>-0.021600</td>\n",
       "      <td>0.021600</td>\n",
       "    </tr>\n",
       "    <tr>\n",
       "      <th>26</th>\n",
       "      <td>family_size</td>\n",
       "      <td>-0.013873</td>\n",
       "      <td>0.013873</td>\n",
       "    </tr>\n",
       "    <tr>\n",
       "      <th>11</th>\n",
       "      <td>met_as_neighbors</td>\n",
       "      <td>0.011074</td>\n",
       "      <td>0.011074</td>\n",
       "    </tr>\n",
       "    <tr>\n",
       "      <th>7</th>\n",
       "      <td>met_travel</td>\n",
       "      <td>-0.010246</td>\n",
       "      <td>0.010246</td>\n",
       "    </tr>\n",
       "    <tr>\n",
       "      <th>6</th>\n",
       "      <td>met_at_church</td>\n",
       "      <td>-0.008964</td>\n",
       "      <td>0.008964</td>\n",
       "    </tr>\n",
       "    <tr>\n",
       "      <th>29</th>\n",
       "      <td>region_northeast</td>\n",
       "      <td>0.006925</td>\n",
       "      <td>0.006925</td>\n",
       "    </tr>\n",
       "    <tr>\n",
       "      <th>32</th>\n",
       "      <td>income_gap</td>\n",
       "      <td>0.006607</td>\n",
       "      <td>0.006607</td>\n",
       "    </tr>\n",
       "    <tr>\n",
       "      <th>9</th>\n",
       "      <td>met_party</td>\n",
       "      <td>-0.006158</td>\n",
       "      <td>0.006158</td>\n",
       "    </tr>\n",
       "    <tr>\n",
       "      <th>30</th>\n",
       "      <td>region_south</td>\n",
       "      <td>0.003504</td>\n",
       "      <td>0.003504</td>\n",
       "    </tr>\n",
       "    <tr>\n",
       "      <th>4</th>\n",
       "      <td>met_at_work</td>\n",
       "      <td>-0.002771</td>\n",
       "      <td>0.002771</td>\n",
       "    </tr>\n",
       "    <tr>\n",
       "      <th>12</th>\n",
       "      <td>met_public_space</td>\n",
       "      <td>-0.001964</td>\n",
       "      <td>0.001964</td>\n",
       "    </tr>\n",
       "    <tr>\n",
       "      <th>28</th>\n",
       "      <td>region_midwest</td>\n",
       "      <td>-0.001822</td>\n",
       "      <td>0.001822</td>\n",
       "    </tr>\n",
       "    <tr>\n",
       "      <th>31</th>\n",
       "      <td>same_political</td>\n",
       "      <td>-0.000593</td>\n",
       "      <td>0.000593</td>\n",
       "    </tr>\n",
       "  </tbody>\n",
       "</table>\n",
       "</div>"
      ],
      "text/plain": [
       "                             X_variables      coef  abs_coef\n",
       "15                    married_w1_married  0.414156  0.414156\n",
       "24             parental_approval_approve -0.323060  0.323060\n",
       "25                          age_when_met -0.309830  0.309830\n",
       "21                    edu_gap_bin_0 to 2 -0.196650  0.196650\n",
       "22                    edu_gap_bin_3 to 4 -0.183702  0.183702\n",
       "0                         children_in_hh -0.177158  0.177158\n",
       "3                             met_online -0.147938  0.147938\n",
       "16                    age_gap_bin_0 to 3 -0.129746  0.129746\n",
       "19                   age_gap_bin_6 to 10 -0.114845  0.114845\n",
       "18                    age_gap_bin_4 to 5 -0.094007  0.094007\n",
       "14                             met_other  0.086378  0.086378\n",
       "17                  age_gap_bin_11 to 20 -0.082746  0.082746\n",
       "20  same_sex_couple_different sex couple -0.078525  0.078525\n",
       "2                          religious_gap -0.077820  0.077820\n",
       "23                    edu_gap_bin_5 to 6 -0.066752  0.066752\n",
       "5                          met_at_school -0.064322  0.064322\n",
       "1                               race_gap -0.054831  0.054831\n",
       "8                             met_social -0.040989  0.040989\n",
       "27                                 metro -0.032046  0.032046\n",
       "10                           met_f_and_f -0.024472  0.024472\n",
       "13                    met_offline_dating -0.021600  0.021600\n",
       "26                           family_size -0.013873  0.013873\n",
       "11                      met_as_neighbors  0.011074  0.011074\n",
       "7                             met_travel -0.010246  0.010246\n",
       "6                          met_at_church -0.008964  0.008964\n",
       "29                      region_northeast  0.006925  0.006925\n",
       "32                            income_gap  0.006607  0.006607\n",
       "9                              met_party -0.006158  0.006158\n",
       "30                          region_south  0.003504  0.003504\n",
       "4                            met_at_work -0.002771  0.002771\n",
       "12                      met_public_space -0.001964  0.001964\n",
       "28                        region_midwest -0.001822  0.001822\n",
       "31                        same_political -0.000593  0.000593"
      ]
     },
     "execution_count": 34,
     "metadata": {},
     "output_type": "execute_result"
    }
   ],
   "source": [
    "coef_df=pd.DataFrame(numbers,columns,columns=['coef'])\n",
    "coef_df=coef_df.reset_index()\n",
    "coef_df=coef_df.rename(columns={'index':'X_variables'})\n",
    "coef_df['abs_coef'] = abs(coef_df['coef'])\n",
    "coef_df = coef_df.sort_values(['abs_coef'],ascending=False)\n",
    "coef_df"
   ]
  },
  {
   "cell_type": "markdown",
   "metadata": {},
   "source": [
    "## Test with sample prediction"
   ]
  },
  {
   "cell_type": "code",
   "execution_count": 35,
   "metadata": {},
   "outputs": [
    {
     "data": {
      "text/html": [
       "<div>\n",
       "<style scoped>\n",
       "    .dataframe tbody tr th:only-of-type {\n",
       "        vertical-align: middle;\n",
       "    }\n",
       "\n",
       "    .dataframe tbody tr th {\n",
       "        vertical-align: top;\n",
       "    }\n",
       "\n",
       "    .dataframe thead th {\n",
       "        text-align: right;\n",
       "    }\n",
       "</style>\n",
       "<table border=\"1\" class=\"dataframe\">\n",
       "  <thead>\n",
       "    <tr style=\"text-align: right;\">\n",
       "      <th></th>\n",
       "      <th>children_in_hh</th>\n",
       "      <th>race_gap</th>\n",
       "      <th>religious_gap</th>\n",
       "      <th>met_online</th>\n",
       "      <th>met_at_work</th>\n",
       "      <th>met_at_school</th>\n",
       "      <th>met_at_church</th>\n",
       "      <th>met_travel</th>\n",
       "      <th>met_social</th>\n",
       "      <th>met_party</th>\n",
       "      <th>...</th>\n",
       "      <th>edu_gap_bin_5 to 6</th>\n",
       "      <th>parental_approval_approve</th>\n",
       "      <th>age_when_met</th>\n",
       "      <th>family_size</th>\n",
       "      <th>metro</th>\n",
       "      <th>region_midwest</th>\n",
       "      <th>region_northeast</th>\n",
       "      <th>region_south</th>\n",
       "      <th>same_political</th>\n",
       "      <th>income_gap</th>\n",
       "    </tr>\n",
       "  </thead>\n",
       "  <tbody>\n",
       "    <tr>\n",
       "      <th>10</th>\n",
       "      <td>0</td>\n",
       "      <td>0</td>\n",
       "      <td>0</td>\n",
       "      <td>1</td>\n",
       "      <td>0</td>\n",
       "      <td>0</td>\n",
       "      <td>0</td>\n",
       "      <td>0</td>\n",
       "      <td>0</td>\n",
       "      <td>0</td>\n",
       "      <td>...</td>\n",
       "      <td>0</td>\n",
       "      <td>0</td>\n",
       "      <td>49.0</td>\n",
       "      <td>3.0</td>\n",
       "      <td>0</td>\n",
       "      <td>1</td>\n",
       "      <td>0</td>\n",
       "      <td>0</td>\n",
       "      <td>1</td>\n",
       "      <td>1.0</td>\n",
       "    </tr>\n",
       "  </tbody>\n",
       "</table>\n",
       "<p>1 rows × 33 columns</p>\n",
       "</div>"
      ],
      "text/plain": [
       "    children_in_hh  race_gap  religious_gap  met_online  met_at_work  \\\n",
       "10               0         0              0           1            0   \n",
       "\n",
       "    met_at_school  met_at_church  met_travel  met_social  met_party  ...  \\\n",
       "10              0              0           0           0          0  ...   \n",
       "\n",
       "    edu_gap_bin_5 to 6  parental_approval_approve  age_when_met  family_size  \\\n",
       "10                   0                          0          49.0          3.0   \n",
       "\n",
       "    metro  region_midwest  region_northeast  region_south  same_political  \\\n",
       "10      0               1                 0             0               1   \n",
       "\n",
       "    income_gap  \n",
       "10         1.0  \n",
       "\n",
       "[1 rows x 33 columns]"
      ]
     },
     "execution_count": 35,
     "metadata": {},
     "output_type": "execute_result"
    }
   ],
   "source": [
    "sample_x = X.iloc[[10]]\n",
    "sample_x"
   ]
  },
  {
   "cell_type": "code",
   "execution_count": 36,
   "metadata": {},
   "outputs": [
    {
     "data": {
      "text/plain": [
       "array([[-0.52700729, -0.46282699, -1.15142225,  2.94659183, -0.57325553,\n",
       "        -0.49361971, -0.28456542, -0.20027643, -0.33366158, -0.4543315 ,\n",
       "        -0.88271162, -0.31784413, -0.6060303 , -0.12369935, -0.1681038 ,\n",
       "        -1.35038121,  0.91495003, -0.32622802, -0.43141613, -0.46564845,\n",
       "        -2.31407208,  0.65271968, -0.52812079, -0.21536525, -1.11569535,\n",
       "         1.82446671, -0.18048337, -2.4288027 ,  1.84327448, -0.50124637,\n",
       "        -0.69374847,  0.86222458,  0.37489466]])"
      ]
     },
     "execution_count": 36,
     "metadata": {},
     "output_type": "execute_result"
    }
   ],
   "source": [
    "sample_x_scaled = X_scaler.transform(sample_x)\n",
    "sample_x_scaled"
   ]
  },
  {
   "cell_type": "code",
   "execution_count": 37,
   "metadata": {},
   "outputs": [],
   "source": [
    "sample_x_prediction_scaled = model.predict(sample_x_scaled)"
   ]
  },
  {
   "cell_type": "code",
   "execution_count": 38,
   "metadata": {},
   "outputs": [
    {
     "data": {
      "text/plain": [
       "array([[-0.68973233]])"
      ]
     },
     "execution_count": 38,
     "metadata": {},
     "output_type": "execute_result"
    }
   ],
   "source": [
    "sample_x_prediction_scaled"
   ]
  },
  {
   "cell_type": "code",
   "execution_count": 39,
   "metadata": {},
   "outputs": [
    {
     "data": {
      "text/plain": [
       "array([[10.8504317]])"
      ]
     },
     "execution_count": 39,
     "metadata": {},
     "output_type": "execute_result"
    }
   ],
   "source": [
    "sample_x_prediction_unscaled = y_scaler.inverse_transform(sample_x_prediction_scaled)\n",
    "sample_x_prediction_unscaled"
   ]
  },
  {
   "cell_type": "markdown",
   "metadata": {},
   "source": [
    "## Build a UI to take inputs"
   ]
  },
  {
   "cell_type": "code",
   "execution_count": 40,
   "metadata": {},
   "outputs": [
    {
     "name": "stdout",
     "output_type": "stream",
     "text": [
      "Index(['children_in_hh', 'race_gap', 'religious_gap', 'met_online',\n",
      "       'met_at_work', 'met_at_school', 'met_at_church', 'met_travel',\n",
      "       'met_social', 'met_party', 'met_f_and_f', 'met_as_neighbors',\n",
      "       'met_public_space', 'met_offline_dating', 'met_other',\n",
      "       'married_w1_married', 'age_gap_bin_0 to 3', 'age_gap_bin_11 to 20',\n",
      "       'age_gap_bin_4 to 5', 'age_gap_bin_6 to 10',\n",
      "       'same_sex_couple_different sex couple', 'edu_gap_bin_0 to 2',\n",
      "       'edu_gap_bin_3 to 4', 'edu_gap_bin_5 to 6', 'parental_approval_approve',\n",
      "       'age_when_met', 'family_size', 'metro', 'region_midwest',\n",
      "       'region_northeast', 'region_south', 'same_political', 'income_gap'],\n",
      "      dtype='object')\n"
     ]
    },
    {
     "data": {
      "text/plain": [
       "(1, 33)"
      ]
     },
     "execution_count": 40,
     "metadata": {},
     "output_type": "execute_result"
    }
   ],
   "source": [
    "# See what the shape of input looks like\n",
    "\n",
    "shape_of_input = X.iloc[[5]]\n",
    "print(shape_of_input.columns)\n",
    "shape_of_input.shape"
   ]
  },
  {
   "cell_type": "code",
   "execution_count": 41,
   "metadata": {},
   "outputs": [
    {
     "data": {
      "text/html": [
       "<div>\n",
       "<style scoped>\n",
       "    .dataframe tbody tr th:only-of-type {\n",
       "        vertical-align: middle;\n",
       "    }\n",
       "\n",
       "    .dataframe tbody tr th {\n",
       "        vertical-align: top;\n",
       "    }\n",
       "\n",
       "    .dataframe thead th {\n",
       "        text-align: right;\n",
       "    }\n",
       "</style>\n",
       "<table border=\"1\" class=\"dataframe\">\n",
       "  <thead>\n",
       "    <tr style=\"text-align: right;\">\n",
       "      <th></th>\n",
       "      <th>children_in_hh</th>\n",
       "      <th>race_gap</th>\n",
       "      <th>religious_gap</th>\n",
       "      <th>met_online</th>\n",
       "      <th>met_at_work</th>\n",
       "      <th>met_at_school</th>\n",
       "      <th>met_at_church</th>\n",
       "      <th>met_travel</th>\n",
       "      <th>met_social</th>\n",
       "      <th>met_party</th>\n",
       "      <th>...</th>\n",
       "      <th>edu_gap_bin_5 to 6</th>\n",
       "      <th>parental_approval_approve</th>\n",
       "      <th>age_when_met</th>\n",
       "      <th>family_size</th>\n",
       "      <th>metro</th>\n",
       "      <th>region_midwest</th>\n",
       "      <th>region_northeast</th>\n",
       "      <th>region_south</th>\n",
       "      <th>same_political</th>\n",
       "      <th>income_gap</th>\n",
       "    </tr>\n",
       "  </thead>\n",
       "  <tbody>\n",
       "    <tr>\n",
       "      <th>0</th>\n",
       "      <td>0</td>\n",
       "      <td>0</td>\n",
       "      <td>0</td>\n",
       "      <td>0</td>\n",
       "      <td>0</td>\n",
       "      <td>0</td>\n",
       "      <td>0</td>\n",
       "      <td>0</td>\n",
       "      <td>0</td>\n",
       "      <td>0</td>\n",
       "      <td>...</td>\n",
       "      <td>0</td>\n",
       "      <td>0</td>\n",
       "      <td>0</td>\n",
       "      <td>0</td>\n",
       "      <td>0</td>\n",
       "      <td>0</td>\n",
       "      <td>0</td>\n",
       "      <td>0</td>\n",
       "      <td>0</td>\n",
       "      <td>0</td>\n",
       "    </tr>\n",
       "  </tbody>\n",
       "</table>\n",
       "<p>1 rows × 33 columns</p>\n",
       "</div>"
      ],
      "text/plain": [
       "   children_in_hh  race_gap  religious_gap  met_online  met_at_work  \\\n",
       "0               0         0              0           0            0   \n",
       "\n",
       "   met_at_school  met_at_church  met_travel  met_social  met_party  ...  \\\n",
       "0              0              0           0           0          0  ...   \n",
       "\n",
       "   edu_gap_bin_5 to 6  parental_approval_approve  age_when_met  family_size  \\\n",
       "0                   0                          0             0            0   \n",
       "\n",
       "   metro  region_midwest  region_northeast  region_south  same_political  \\\n",
       "0      0               0                 0             0               0   \n",
       "\n",
       "   income_gap  \n",
       "0           0  \n",
       "\n",
       "[1 rows x 33 columns]"
      ]
     },
     "execution_count": 41,
     "metadata": {},
     "output_type": "execute_result"
    }
   ],
   "source": [
    "### Testing how pd.DataFrame works\n",
    "# data = [0,0,0,0]\n",
    "# test_df = pd.DataFrame([data],columns=['a','b','c','d'])\n",
    "# test_df\n",
    "\n",
    "\n",
    "### Create an empty containter to take user inputs\n",
    "\n",
    "user_input_default = [0,0,0,0,0,\\\n",
    "                     0,0,0,0,0,\\\n",
    "                     0,0,0,0,0,\\\n",
    "                     0,0,0,0,0,\\\n",
    "                     0,0,0,0,0,\\\n",
    "                     0,0,0,0,0,\\\n",
    "                     0,0,0]\n",
    "\n",
    "user_input_df = pd.DataFrame([user_input_default], columns=['children_in_hh', 'race_gap',\\\n",
    "                                      'religious_gap', 'met_online','met_at_work',\\\n",
    "                                      'met_at_school', 'met_at_church', 'met_travel','met_social', 'met_party',\\\n",
    "                                      'met_f_and_f', 'met_as_neighbors','met_public_space', 'met_offline_dating', 'met_other',\\\n",
    "                                      'married_w1_married', \\\n",
    "                                      'age_gap_bin_0 to 3', 'age_gap_bin_11 to 20','age_gap_bin_4 to 5', 'age_gap_bin_6 to 10',\\\n",
    "                                      'same_sex_couple_different sex couple',\\\n",
    "                                      'edu_gap_bin_0 to 2','edu_gap_bin_3 to 4', 'edu_gap_bin_5 to 6',\\\n",
    "                                      'parental_approval_approve','age_when_met', 'family_size', 'metro', 'region_midwest',\\\n",
    "                                      'region_northeast', 'region_south', 'same_political', 'income_gap'])\n",
    "\n",
    "\n",
    "user_input_df"
   ]
  },
  {
   "cell_type": "code",
   "execution_count": 54,
   "metadata": {},
   "outputs": [
    {
     "name": "stdout",
     "output_type": "stream",
     "text": [
      "USER INPUTS STARTING NOW!!\n",
      "---------------------------\n",
      "How many kids do you have in the household now? \n",
      "0\n",
      "Are you and your partner of the same races?  0 = same race, 1 = diff race \n",
      "0\n",
      "Do you have the same religicous belief?  0 = same belief, 1 = diff belief 1\n"
     ]
    }
   ],
   "source": [
    "######## Question 1,2 and 3\n",
    "\n",
    "print('USER INPUTS STARTING NOW!!')\n",
    "print('---------------------------')\n",
    "\n",
    "user_childen_in_hh = input('How many kids do you have in the household now? \\n')\n",
    "user_race_gap = input('Are you and your partner of the same races?  0 = same race, 1 = diff race \\n')\n",
    "user_religious_gap = input('Do you have the same religicous belief?  0 = same belief, 1 = diff belief ')"
   ]
  },
  {
   "cell_type": "code",
   "execution_count": 43,
   "metadata": {},
   "outputs": [
    {
     "name": "stdout",
     "output_type": "stream",
     "text": [
      "How did you meet your partner?\n",
      "Options are: \n",
      "1_met_online,\n",
      "2_met_at_work,\n",
      "3_met_at_school,\n",
      "4_met_at_church,\n",
      "5_met_travel,\n",
      "6_met_social,\n",
      "7_met_party,\n",
      "8_met_f_and_f,\n",
      "9_met_as_neighbors,\n",
      "10_met_public_space,\n",
      "11_met_offline_dating\n",
      "your answer is: please enter the exact same string after the number met_at_school\n",
      "\n",
      "\n",
      "Are you and your partner married? 1 = Yes, 0 = No 1\n",
      "\n",
      "\n",
      "Which option best describes the age gap between you and your partner? \n",
      "1. age gap is between 0 to 3 years. Enter \"age_gap_bin_0 to 3\" \n",
      "2. age gap is between 4 to 5 years. Enter \"age_gap_bin_4 to 5\" \n",
      "3. age gap is between 6 to 10 years. Enter \"age_gap_bin_6 to 10\" \n",
      "4. age gap is between 11 to 20 years. Enter \"age_gap_bin_11 to 20\" \n",
      "5. age gap is >20 years. Enter \"none_of_the_above\" \n",
      "Please provide your answer: age_gap_bin_0 to 3\n"
     ]
    }
   ],
   "source": [
    "######## Question 4,5 and 6\n",
    "\n",
    "\n",
    "print('How did you meet your partner?')\n",
    "print('Options are: ')\n",
    "print('1_met_online,\\n2_met_at_work,\\n3_met_at_school,\\n4_met_at_church,\\n5_met_travel,\\n6_met_social,\\n7_met_party,\\n8_met_f_and_f,\\n9_met_as_neighbors,\\n10_met_public_space,\\n11_met_offline_dating')\n",
    "user_how_met = input('your answer is: please enter the exact same string after the number ')\n",
    "print('\\n')\n",
    "user_married = input('Are you and your partner married? 1 = Yes, 0 = No ')\n",
    "print('\\n')\n",
    "print('Which option best describes the age gap between you and your partner? ')\n",
    "print('1. age gap is between 0 to 3 years. Enter \"age_gap_bin_0 to 3\" ')\n",
    "print('2. age gap is between 4 to 5 years. Enter \"age_gap_bin_4 to 5\" ')\n",
    "print('3. age gap is between 6 to 10 years. Enter \"age_gap_bin_6 to 10\" ')\n",
    "print('4. age gap is between 11 to 20 years. Enter \"age_gap_bin_11 to 20\" ')\n",
    "print('5. age gap is >20 years. Enter \"none_of_the_above\" ')\n",
    "\n",
    "user_age_gap = input('Please provide your answer: ')"
   ]
  },
  {
   "cell_type": "code",
   "execution_count": 44,
   "metadata": {},
   "outputs": [
    {
     "name": "stdout",
     "output_type": "stream",
     "text": [
      "Are you a same sex couple? 1 = different sex; 0 = same sex 1\n",
      "\n",
      "\n",
      "Which option best describes the education gap between you and your partner? \n",
      "1. education gap is between 0 to 2 years. Enter \"edu_gap_bin_0 to 2\"\n",
      "2. education gap is between 3 to 4 years. Enter \"edu_gap_bin_3 to 4\"\n",
      "3. education gap is between 5 to 6 years. Enter \"edu_gap_bin_5 to 6\"\n",
      "4. education gap is >6 years. Enter \"none_of_the_above\"\n",
      "Please provide your answer: edu_gap_bin_0 to 2\n",
      "\n",
      "\n",
      "Do you have parental approval for your relationship? 1 = Approved; 0 = Not approved 1\n"
     ]
    }
   ],
   "source": [
    "######## Question 7,8 and 9\n",
    "\n",
    "user_sexuality = input('Are you a same sex couple? 1 = different sex; 0 = same sex ')\n",
    "print('\\n')\n",
    "print('Which option best describes the education gap between you and your partner? ')\n",
    "print('1. education gap is between 0 to 2 years. Enter \"edu_gap_bin_0 to 2\"')\n",
    "print('2. education gap is between 3 to 4 years. Enter \"edu_gap_bin_3 to 4\"')\n",
    "print('3. education gap is between 5 to 6 years. Enter \"edu_gap_bin_5 to 6\"')\n",
    "print('4. education gap is >6 years. Enter \"none_of_the_above\"')\n",
    "user_edu_gap = input('Please provide your answer: ')\n",
    "print('\\n')\n",
    "user_parental = input('Do you have parental approval for your relationship? 1 = Approved; 0 = Not approved ')"
   ]
  },
  {
   "cell_type": "code",
   "execution_count": 45,
   "metadata": {},
   "outputs": [
    {
     "name": "stdout",
     "output_type": "stream",
     "text": [
      "How old were you when you met your partner? 15\n",
      "How many people currently live in the same household? 2\n",
      "Do you live in a city or in a rural area? 1 = live in a city; 0 = live in a rural area 1\n"
     ]
    }
   ],
   "source": [
    "######## Question 10, 11 and 12\n",
    "\n",
    "user_age_when_met = input('How old were you when you met your partner? ')\n",
    "user_family_size = input('How many people currently live in the same household? ')\n",
    "user_metro = input('Do you live in a city or in a rural area? 1 = live in a city; 0 = live in a rural area ')"
   ]
  },
  {
   "cell_type": "code",
   "execution_count": 46,
   "metadata": {},
   "outputs": [
    {
     "name": "stdout",
     "output_type": "stream",
     "text": [
      "Which region do you live in? \n",
      "Options are:\n",
      "1. region_midwest\n",
      "2. region_northeast\n",
      "3. region_south\n",
      "4. region_west\n",
      "Please enter the string after the number \n",
      "\n",
      "Your region is region_west\n",
      "Do you and your partner have the same political standing? 1 = Same; 0 = Different 1\n",
      "Do you and your partner have an income gap?\n",
      "1 = Yes there is a material gap; 0 = No gap, almost the same 0\n"
     ]
    }
   ],
   "source": [
    "#### Question 13, 14 and 15\n",
    "\n",
    "print('Which region do you live in? ')\n",
    "print('Options are:')\n",
    "print('1. region_midwest')\n",
    "print('2. region_northeast')\n",
    "print('3. region_south')\n",
    "print('4. region_west')\n",
    "print('Please enter the string after the number \\n')\n",
    "user_region = input('Your region is ')\n",
    "user_political = input('Do you and your partner have the same political standing? 1 = Same; 0 = Different ')\n",
    "user_income_gap = input('Do you and your partner have an income gap?\\n1 = Yes there is a material gap; 0 = No gap, almost the same ')"
   ]
  },
  {
   "cell_type": "code",
   "execution_count": 47,
   "metadata": {},
   "outputs": [
    {
     "name": "stdout",
     "output_type": "stream",
     "text": [
      "these are your answers: \n",
      "---------------------------------\n",
      "# of childen:  0\n",
      "race gap? 0 = same race.  0\n",
      "religious gap? 0 = same belief.  0\n",
      "met_at_school\n",
      "married or not? 1 = married.  1\n",
      "age_gap_bin_0 to 3\n",
      "same sex couple? 1 = different sex.  1\n",
      "edu_gap_bin_0 to 2\n",
      "parental approval? 1 = approved 0 = not.  1\n",
      "age when met  15\n",
      "family size:  2\n",
      "metro or not? 1 = yes. 0 = no  1\n",
      "region_west\n",
      "same political standing? 1 = same. 0 = diff.  1\n",
      "income gap? 1 = there is a gap. 0 = no gap.  0\n"
     ]
    }
   ],
   "source": [
    "print(\"these are your answers: \")\n",
    "print('---------------------------------')\n",
    "print('# of childen: ',user_childen_in_hh)\n",
    "print('race gap? 0 = same race. ',user_race_gap)\n",
    "print('religious gap? 0 = same belief. ',user_religious_gap)\n",
    "print(user_how_met)\n",
    "print('married or not? 1 = married. ',user_married)\n",
    "print(user_age_gap)\n",
    "print('same sex couple? 1 = different sex. ',user_sexuality)\n",
    "print(user_edu_gap)\n",
    "print('parental approval? 1 = approved 0 = not. ',user_parental)\n",
    "print('age when met ', user_age_when_met)\n",
    "print('family size: ',user_family_size)\n",
    "print('metro or not? 1 = yes. 0 = no ', user_metro)\n",
    "print(user_region)\n",
    "print('same political standing? 1 = same. 0 = diff. ',user_political)\n",
    "print('income gap? 1 = there is a gap. 0 = no gap. ',user_income_gap)"
   ]
  },
  {
   "cell_type": "code",
   "execution_count": 48,
   "metadata": {},
   "outputs": [],
   "source": [
    "##################################################################################\n",
    "############## Transfer the user inputs into the correct format ##################\n",
    "##################################################################################"
   ]
  },
  {
   "cell_type": "code",
   "execution_count": 49,
   "metadata": {},
   "outputs": [
    {
     "name": "stdout",
     "output_type": "stream",
     "text": [
      "Index(['children_in_hh', 'race_gap', 'religious_gap', 'met_online',\n",
      "       'met_at_work', 'met_at_school', 'met_at_church', 'met_travel',\n",
      "       'met_social', 'met_party', 'met_f_and_f', 'met_as_neighbors',\n",
      "       'met_public_space', 'met_offline_dating', 'met_other',\n",
      "       'married_w1_married', 'age_gap_bin_0 to 3', 'age_gap_bin_11 to 20',\n",
      "       'age_gap_bin_4 to 5', 'age_gap_bin_6 to 10',\n",
      "       'same_sex_couple_different sex couple', 'edu_gap_bin_0 to 2',\n",
      "       'edu_gap_bin_3 to 4', 'edu_gap_bin_5 to 6', 'parental_approval_approve',\n",
      "       'age_when_met', 'family_size', 'metro', 'region_midwest',\n",
      "       'region_northeast', 'region_south', 'same_political', 'income_gap'],\n",
      "      dtype='object')\n"
     ]
    },
    {
     "data": {
      "text/html": [
       "<div>\n",
       "<style scoped>\n",
       "    .dataframe tbody tr th:only-of-type {\n",
       "        vertical-align: middle;\n",
       "    }\n",
       "\n",
       "    .dataframe tbody tr th {\n",
       "        vertical-align: top;\n",
       "    }\n",
       "\n",
       "    .dataframe thead th {\n",
       "        text-align: right;\n",
       "    }\n",
       "</style>\n",
       "<table border=\"1\" class=\"dataframe\">\n",
       "  <thead>\n",
       "    <tr style=\"text-align: right;\">\n",
       "      <th></th>\n",
       "      <th>children_in_hh</th>\n",
       "      <th>race_gap</th>\n",
       "      <th>religious_gap</th>\n",
       "      <th>met_online</th>\n",
       "      <th>met_at_work</th>\n",
       "      <th>met_at_school</th>\n",
       "      <th>met_at_church</th>\n",
       "      <th>met_travel</th>\n",
       "      <th>met_social</th>\n",
       "      <th>met_party</th>\n",
       "      <th>...</th>\n",
       "      <th>edu_gap_bin_5 to 6</th>\n",
       "      <th>parental_approval_approve</th>\n",
       "      <th>age_when_met</th>\n",
       "      <th>family_size</th>\n",
       "      <th>metro</th>\n",
       "      <th>region_midwest</th>\n",
       "      <th>region_northeast</th>\n",
       "      <th>region_south</th>\n",
       "      <th>same_political</th>\n",
       "      <th>income_gap</th>\n",
       "    </tr>\n",
       "  </thead>\n",
       "  <tbody>\n",
       "    <tr>\n",
       "      <th>0</th>\n",
       "      <td>0</td>\n",
       "      <td>0</td>\n",
       "      <td>0</td>\n",
       "      <td>0</td>\n",
       "      <td>0</td>\n",
       "      <td>0</td>\n",
       "      <td>0</td>\n",
       "      <td>0</td>\n",
       "      <td>0</td>\n",
       "      <td>0</td>\n",
       "      <td>...</td>\n",
       "      <td>0</td>\n",
       "      <td>0</td>\n",
       "      <td>0</td>\n",
       "      <td>0</td>\n",
       "      <td>0</td>\n",
       "      <td>0</td>\n",
       "      <td>0</td>\n",
       "      <td>0</td>\n",
       "      <td>0</td>\n",
       "      <td>0</td>\n",
       "    </tr>\n",
       "  </tbody>\n",
       "</table>\n",
       "<p>1 rows × 33 columns</p>\n",
       "</div>"
      ],
      "text/plain": [
       "   children_in_hh  race_gap  religious_gap  met_online  met_at_work  \\\n",
       "0               0         0              0           0            0   \n",
       "\n",
       "   met_at_school  met_at_church  met_travel  met_social  met_party  ...  \\\n",
       "0              0              0           0           0          0  ...   \n",
       "\n",
       "   edu_gap_bin_5 to 6  parental_approval_approve  age_when_met  family_size  \\\n",
       "0                   0                          0             0            0   \n",
       "\n",
       "   metro  region_midwest  region_northeast  region_south  same_political  \\\n",
       "0      0               0                 0             0               0   \n",
       "\n",
       "   income_gap  \n",
       "0           0  \n",
       "\n",
       "[1 rows x 33 columns]"
      ]
     },
     "execution_count": 49,
     "metadata": {},
     "output_type": "execute_result"
    }
   ],
   "source": [
    "print(user_input_df.columns)\n",
    "user_input_df"
   ]
  },
  {
   "cell_type": "code",
   "execution_count": 50,
   "metadata": {},
   "outputs": [],
   "source": [
    "# transfer all user inputs into DF\n",
    "\n",
    "user_input_df['children_in_hh'] = user_childen_in_hh\n",
    "user_input_df['race_gap'] = user_race_gap\n",
    "user_input_df['religious_gap'] = user_religious_gap\n",
    "user_input_df[user_how_met] = 1\n",
    "user_input_df['married_w1_married'] = user_married\n",
    "\n",
    "if user_age_gap != \"none_of_the_above\":\n",
    "    user_input_df[user_age_gap] = 1\n",
    "\n",
    "user_input_df['same_sex_couple_different sex couple'] = user_sexuality\n",
    "\n",
    "if user_edu_gap != \"none_of_the_above\":\n",
    "    user_input_df[user_edu_gap] = 1\n",
    "    \n",
    "user_input_df['parental_approval_approve'] = user_parental\n",
    "user_input_df['age_when_met'] = user_age_when_met\n",
    "user_input_df['family_size'] = user_family_size\n",
    "user_input_df['metro'] = user_metro\n",
    "\n",
    "\n",
    "if user_region != \"region_west\":\n",
    "    user_input_df[user_region] = 1\n",
    "\n",
    "\n",
    "user_input_df['same_political'] = user_political\n",
    "user_input_df['income_gap'] = user_income_gap\n"
   ]
  },
  {
   "cell_type": "code",
   "execution_count": 51,
   "metadata": {},
   "outputs": [
    {
     "data": {
      "text/html": [
       "<div>\n",
       "<style scoped>\n",
       "    .dataframe tbody tr th:only-of-type {\n",
       "        vertical-align: middle;\n",
       "    }\n",
       "\n",
       "    .dataframe tbody tr th {\n",
       "        vertical-align: top;\n",
       "    }\n",
       "\n",
       "    .dataframe thead th {\n",
       "        text-align: right;\n",
       "    }\n",
       "</style>\n",
       "<table border=\"1\" class=\"dataframe\">\n",
       "  <thead>\n",
       "    <tr style=\"text-align: right;\">\n",
       "      <th></th>\n",
       "      <th>children_in_hh</th>\n",
       "      <th>race_gap</th>\n",
       "      <th>religious_gap</th>\n",
       "      <th>met_online</th>\n",
       "      <th>met_at_work</th>\n",
       "      <th>met_at_school</th>\n",
       "      <th>met_at_church</th>\n",
       "      <th>met_travel</th>\n",
       "      <th>met_social</th>\n",
       "      <th>met_party</th>\n",
       "      <th>...</th>\n",
       "      <th>edu_gap_bin_5 to 6</th>\n",
       "      <th>parental_approval_approve</th>\n",
       "      <th>age_when_met</th>\n",
       "      <th>family_size</th>\n",
       "      <th>metro</th>\n",
       "      <th>region_midwest</th>\n",
       "      <th>region_northeast</th>\n",
       "      <th>region_south</th>\n",
       "      <th>same_political</th>\n",
       "      <th>income_gap</th>\n",
       "    </tr>\n",
       "  </thead>\n",
       "  <tbody>\n",
       "    <tr>\n",
       "      <th>0</th>\n",
       "      <td>0</td>\n",
       "      <td>0</td>\n",
       "      <td>0</td>\n",
       "      <td>0</td>\n",
       "      <td>0</td>\n",
       "      <td>1</td>\n",
       "      <td>0</td>\n",
       "      <td>0</td>\n",
       "      <td>0</td>\n",
       "      <td>0</td>\n",
       "      <td>...</td>\n",
       "      <td>0</td>\n",
       "      <td>1</td>\n",
       "      <td>15</td>\n",
       "      <td>2</td>\n",
       "      <td>1</td>\n",
       "      <td>0</td>\n",
       "      <td>0</td>\n",
       "      <td>0</td>\n",
       "      <td>1</td>\n",
       "      <td>0</td>\n",
       "    </tr>\n",
       "  </tbody>\n",
       "</table>\n",
       "<p>1 rows × 33 columns</p>\n",
       "</div>"
      ],
      "text/plain": [
       "  children_in_hh race_gap religious_gap  met_online  met_at_work  \\\n",
       "0              0        0             0           0            0   \n",
       "\n",
       "   met_at_school  met_at_church  met_travel  met_social  met_party  ...  \\\n",
       "0              1              0           0           0          0  ...   \n",
       "\n",
       "   edu_gap_bin_5 to 6  parental_approval_approve  age_when_met  family_size  \\\n",
       "0                   0                          1            15            2   \n",
       "\n",
       "   metro region_midwest  region_northeast  region_south  same_political  \\\n",
       "0      1              0                 0             0               1   \n",
       "\n",
       "   income_gap  \n",
       "0           0  \n",
       "\n",
       "[1 rows x 33 columns]"
      ]
     },
     "execution_count": 51,
     "metadata": {},
     "output_type": "execute_result"
    }
   ],
   "source": [
    "# print out user input df to check\n",
    "\n",
    "user_input_df"
   ]
  },
  {
   "cell_type": "code",
   "execution_count": 52,
   "metadata": {},
   "outputs": [
    {
     "name": "stdout",
     "output_type": "stream",
     "text": [
      "Your relationship will last:  28.0  years\n"
     ]
    }
   ],
   "source": [
    "# Make a prediction!!\n",
    "\n",
    "user_input_scaled = X_scaler.transform(user_input_df)\n",
    "user_prediction_scaled = model.predict(user_input_scaled)\n",
    "user_prediction_unscaled = y_scaler.inverse_transform(user_prediction_scaled)\n",
    "\n",
    "print(\"Your relationship will last: \", round(user_prediction_unscaled[0][0]), \" years\")"
   ]
  },
  {
   "cell_type": "markdown",
   "metadata": {},
   "source": [
    "## Save the model"
   ]
  },
  {
   "cell_type": "code",
   "execution_count": 53,
   "metadata": {},
   "outputs": [
    {
     "data": {
      "text/plain": [
       "['regression_match_megan.sav']"
      ]
     },
     "execution_count": 53,
     "metadata": {},
     "output_type": "execute_result"
    }
   ],
   "source": [
    "import joblib\n",
    "filename = 'regression_match_megan.sav'\n",
    "joblib.dump(model, filename)"
   ]
  }
 ],
 "metadata": {
  "kernelspec": {
   "display_name": "Python 3",
   "language": "python",
   "name": "python3"
  },
  "language_info": {
   "codemirror_mode": {
    "name": "ipython",
    "version": 3
   },
   "file_extension": ".py",
   "mimetype": "text/x-python",
   "name": "python",
   "nbconvert_exporter": "python",
   "pygments_lexer": "ipython3",
   "version": "3.6.9"
  }
 },
 "nbformat": 4,
 "nbformat_minor": 2
}
